{
 "cells": [
  {
   "cell_type": "markdown",
   "metadata": {},
   "source": [
    "# Automated ML\n"
   ]
  },
  {
   "cell_type": "code",
   "execution_count": 1,
   "metadata": {
    "gather": {
     "logged": 1598423888013
    },
    "jupyter": {
     "outputs_hidden": false,
     "source_hidden": false
    },
    "nteract": {
     "transient": {
      "deleting": false
     }
    }
   },
   "outputs": [],
   "source": [
    "#workspace management\n",
    "from azureml.core import Workspace, Experiment, Dataset\n",
    "#compute resource management\n",
    "from azureml.core.compute import ComputeTarget, AmlCompute\n",
    "from azureml.core.compute_target import ComputeTargetException\n",
    "import os\n",
    "\n",
    "#autoML\n",
    "from azureml.train.automl import AutoMLConfig\n",
    "\n",
    "#model saving,deployment and exchange\n",
    "import joblib\n",
    "\n",
    "#data management\n",
    "import pandas as pd\n"
   ]
  },
  {
   "cell_type": "markdown",
   "metadata": {},
   "source": [
    "## Dataset\n",
    "\n",
    "### Overview\n",
    "The dataset of this project is the same as the one used for exploiting the capabilities of AzureHyperdrive. It's the heart attack and disease dataset under Kaggle. This database contains 76 attributes, but all published experiments refer to using a subset of 14 of them. In particular, the Cleveland database is the only one that has been used by ML researchers to this date.\n",
    "\n",
    "The task is a binary classifaction task able to predict a heart disease in the patient (0: no presence, 1: presence). I started with the most simple approach (Logistic Regression) using AzureHyperDrive for hyperparameters tuning. Thus, I got the first model able to give an answer of the problem (Occam's razor).\n",
    "\n",
    "Using AzureAutoML we will be able to benchmark different approaches as well as the one carried out by Hyperdrive. \n",
    "\n",
    "Nature of the data is *balanced* and features are numerical, non requring too much feature engineering. Due to this fact,primary metric to be optimized be Accurary, other metrics would be analized and take into account though: MCC, Precision, Recall and AUC-ROC Curves.\n"
   ]
  },
  {
   "cell_type": "code",
   "execution_count": 2,
   "metadata": {
    "gather": {
     "logged": 1598423890461
    },
    "jupyter": {
     "outputs_hidden": false,
     "source_hidden": false
    },
    "nteract": {
     "transient": {
      "deleting": false
     }
    }
   },
   "outputs": [],
   "source": [
    "ws = Workspace.from_config()\n",
    "\n",
    "# choose a name for experiment\n",
    "experiment_name = 'automl-experiment'\n",
    "\n",
    "experiment=Experiment(ws, experiment_name)\n",
    "dataset = Dataset.get_by_name(ws, name='heart_disease')\n",
    "data = dataset.to_pandas_dataframe()\n"
   ]
  },
  {
   "cell_type": "code",
   "execution_count": 3,
   "metadata": {},
   "outputs": [
    {
     "name": "stdout",
     "output_type": "stream",
     "text": [
      "creating a new compute target...\n",
      "Creating....\n",
      "SucceededProvisioning operation finished, operation \"Succeeded\"\n",
      "Succeeded\n",
      "AmlCompute wait for completion finished\n",
      "\n",
      "Minimum number of nodes requested have been provisioned\n",
      "{'currentNodeCount': 0, 'targetNodeCount': 0, 'nodeStateCounts': {'preparingNodeCount': 0, 'runningNodeCount': 0, 'idleNodeCount': 0, 'unusableNodeCount': 0, 'leavingNodeCount': 0, 'preemptedNodeCount': 0}, 'allocationState': 'Steady', 'allocationStateTransitionTime': '2021-04-19T21:54:19.979000+00:00', 'errors': None, 'creationTime': '2021-04-19T21:54:17.236375+00:00', 'modifiedTime': '2021-04-19T21:54:32.686523+00:00', 'provisioningState': 'Succeeded', 'provisioningStateTransitionTime': None, 'scaleSettings': {'minNodeCount': 0, 'maxNodeCount': 4, 'nodeIdleTimeBeforeScaleDown': 'PT120S'}, 'vmPriority': 'Dedicated', 'vmSize': 'STANDARD_D2_V2'}\n"
     ]
    }
   ],
   "source": [
    "#cluster configuration\n",
    "compute_name = os.environ.get(\"AML_COMPUTE_CLUSTER_NAME\", \"cpu-cluster\")\n",
    "compute_min_nodes = os.environ.get(\"AML_COMPUTE_CLUSTER_MIN_NODES\", 0)\n",
    "compute_max_nodes = os.environ.get(\"AML_COMPUTE_CLUSTER_MAX_NODES\", 4)\n",
    "\n",
    "#Using CPU VM.\n",
    "vm_size = os.environ.get(\"AML_COMPUTE_CLUSTER_STANDARD_NC6\", \"STANDARD_D2_V2\")\n",
    "\n",
    "\n",
    "if compute_name in ws.compute_targets:\n",
    "    compute_target = ws.compute_targets[compute_name]\n",
    "    if compute_target and type(compute_target) is AmlCompute:\n",
    "        print('found compute target. just use it. ' + compute_name)\n",
    "else:\n",
    "    print('creating a new compute target...')\n",
    "    provisioning_config = AmlCompute.provisioning_configuration(vm_size = vm_size,\n",
    "                                                                min_nodes = compute_min_nodes, \n",
    "                                                                max_nodes = compute_max_nodes)\n",
    "\n",
    "    # create the cluster\n",
    "    compute_target = ComputeTarget.create(ws, compute_name, provisioning_config)\n",
    "\n",
    "    # can poll for a minimum number of nodes and for a specific timeout. \n",
    "    #if no min node count is provided it will use the scale settings for the cluster\n",
    "    compute_target.wait_for_completion(show_output=True, min_node_count=None, timeout_in_minutes=20)\n",
    "\n",
    "     # For a more detailed view of current AmlCompute status, use get_status()\n",
    "    print(compute_target.get_status().serialize())\n"
   ]
  },
  {
   "cell_type": "code",
   "execution_count": 4,
   "metadata": {
    "scrolled": true
   },
   "outputs": [],
   "source": [
    "#setting computing resources\n",
    "\n",
    "# Using vm_size = \"Standard_D2_V2\" in provisioning configuration.\n",
    "# max_nodes should be no greater than 4.\n",
    "\n",
    "#name of the compute cluster\n",
    "#cpu_cluster_name = \"automlCompute\"\n",
    "\n",
    "# Verify that cluster does not exist already (good practice extracted by Microsoft official documentation: https://docs.microsoft.com/)\n",
    "#try:\n",
    "#    compute_target_aml= ComputeTarget(workspace=ws, name=cpu_cluster_name)\n",
    "#    print('Found existing cluster, use it.')\n",
    "#except ComputeTargetException:\n",
    "#creating compute (cpu) cluster\n",
    "#    compute_config = AmlCompute.provisioning_configuration(vm_size='STANDARD_D2_V2',\n",
    "#                                                           max_nodes=4)\n",
    "#    compute_target_aml = ComputeTarget.create(ws, cpu_cluster_name, compute_config)\n",
    "\n",
    "#compute_target_aml.wait_for_completion(show_output=True)"
   ]
  },
  {
   "cell_type": "markdown",
   "metadata": {},
   "source": [
    "## AutoML Configuration"
   ]
  },
  {
   "cell_type": "code",
   "execution_count": 5,
   "metadata": {
    "gather": {
     "logged": 1598429217746
    },
    "jupyter": {
     "outputs_hidden": false,
     "source_hidden": false
    },
    "nteract": {
     "transient": {
      "deleting": false
     }
    }
   },
   "outputs": [],
   "source": [
    "# Set parameters for AutoMLConfig\n",
    "\n",
    "'''automl_config = AutoMLConfig(\n",
    "    experiment_timeout_minutes=30,\n",
    "    task='classification',\n",
    "    primary_metric='accuracy',\n",
    "    training_data=data, #note: this should contain both features and label/target\n",
    "    label_column_name='y',\n",
    "    debug_log='automated_ml_errors.log',\n",
    "    featurization= 'auto',\n",
    "    compute_target=compute_target_aml,\n",
    "    #verbosity= logging.INFO)\n",
    "    n_cross_validations=5)'''\n",
    "\n",
    "from azureml.train.automl import AutoMLConfig\n",
    "import time\n",
    "import logging\n",
    "\n",
    "automl_settings = {\n",
    "    \"name\": \"AutoML_Demo_Experiment_{0}\".format(time.time()),\n",
    "    \"experiment_timeout_minutes\" : 30,\n",
    "    \"enable_early_stopping\" : True,\n",
    "    \"iteration_timeout_minutes\": 10,\n",
    "    \"n_cross_validations\": 5,\n",
    "    \"primary_metric\": 'accuracy',\n",
    "    \"max_concurrent_iterations\": 10,\n",
    "}\n",
    "\n",
    "automl_config = AutoMLConfig(task='classification',\n",
    "                             debug_log='automl_errors.log',\n",
    "                             compute_target=compute_target,\n",
    "                             training_data=dataset,\n",
    "                             label_column_name='target',\n",
    "                             **automl_settings,\n",
    "                             )"
   ]
  },
  {
   "cell_type": "code",
   "execution_count": 6,
   "metadata": {},
   "outputs": [
    {
     "name": "stdout",
     "output_type": "stream",
     "text": [
      "<class 'azureml.data.tabular_dataset.TabularDataset'>\n"
     ]
    }
   ],
   "source": [
    "print(type(dataset))"
   ]
  },
  {
   "cell_type": "code",
   "execution_count": 7,
   "metadata": {
    "gather": {
     "logged": 1598431107951
    },
    "jupyter": {
     "outputs_hidden": false,
     "source_hidden": false
    },
    "nteract": {
     "transient": {
      "deleting": false
     }
    },
    "scrolled": true
   },
   "outputs": [
    {
     "name": "stdout",
     "output_type": "stream",
     "text": [
      "Submitting remote run.\n",
      "No run_configuration provided, running on cpu-cluster with default configuration\n",
      "Running on remote compute: cpu-cluster\n"
     ]
    },
    {
     "data": {
      "text/html": [
       "<table style=\"width:100%\"><tr><th>Experiment</th><th>Id</th><th>Type</th><th>Status</th><th>Details Page</th><th>Docs Page</th></tr><tr><td>automl-experiment</td><td>AutoML_eaf562aa-79f3-44b6-9592-aa6dec49470e</td><td>automl</td><td>NotStarted</td><td><a href=\"https://ml.azure.com/runs/AutoML_eaf562aa-79f3-44b6-9592-aa6dec49470e?wsid=/subscriptions/1b944a9b-fdae-4f97-aeb1-b7eea0beac53/resourcegroups/aml-quickstarts-143190/workspaces/quick-starts-ws-143190&amp;tid=660b3398-b80e-49d2-bc5b-ac1dc93b5254\" target=\"_blank\" rel=\"noopener\">Link to Azure Machine Learning studio</a></td><td><a href=\"https://docs.microsoft.com/en-us/python/api/overview/azure/ml/intro?view=azure-ml-py\" target=\"_blank\" rel=\"noopener\">Link to Documentation</a></td></tr></table>"
      ],
      "text/plain": [
       "<IPython.core.display.HTML object>"
      ]
     },
     "metadata": {},
     "output_type": "display_data"
    },
    {
     "name": "stdout",
     "output_type": "stream",
     "text": [
      "\n",
      "Current status: FeaturesGeneration. Generating features for the dataset.\n",
      "Current status: DatasetCrossValidationSplit. Generating individually featurized CV splits.\n",
      "Current status: ModelSelection. Beginning model selection.\n",
      "\n",
      "****************************************************************************************************\n",
      "DATA GUARDRAILS: \n",
      "\n",
      "TYPE:         Class balancing detection\n",
      "STATUS:       PASSED\n",
      "DESCRIPTION:  Your inputs were analyzed, and all classes are balanced in your training data.\n",
      "              Learn more about imbalanced data: https://aka.ms/AutomatedMLImbalancedData\n",
      "\n",
      "****************************************************************************************************\n",
      "\n",
      "TYPE:         Missing feature values imputation\n",
      "STATUS:       PASSED\n",
      "DESCRIPTION:  No feature missing values were detected in the training data.\n",
      "              Learn more about missing value imputation: https://aka.ms/AutomatedMLFeaturization\n",
      "\n",
      "****************************************************************************************************\n",
      "\n",
      "TYPE:         High cardinality feature detection\n",
      "STATUS:       PASSED\n",
      "DESCRIPTION:  Your inputs were analyzed, and no high cardinality features were detected.\n",
      "              Learn more about high cardinality feature handling: https://aka.ms/AutomatedMLFeaturization\n",
      "\n",
      "****************************************************************************************************\n",
      "\n",
      "****************************************************************************************************\n",
      "ITERATION: The iteration being evaluated.\n",
      "PIPELINE: A summary description of the pipeline being evaluated.\n",
      "DURATION: Time taken for the current iteration.\n",
      "METRIC: The result of computing score on the fitted pipeline.\n",
      "BEST: The best observed score thus far.\n",
      "****************************************************************************************************\n",
      "\n",
      " ITERATION   PIPELINE                                       DURATION      METRIC      BEST\n",
      "         3   MaxAbsScaler RandomForest                      0:01:00       0.8148    0.8148\n",
      "         0   MaxAbsScaler LightGBM                          0:01:05       0.7919    0.8148\n",
      "         4   MaxAbsScaler RandomForest                      0:01:13       0.8150    0.8150\n",
      "         7   SparseNormalizer XGBoostClassifier             0:01:04       0.8183    0.8183\n",
      "         8   TruncatedSVDWrapper XGBoostClassifier          0:02:24       0.7889    0.8183\n",
      "         2   MaxAbsScaler RandomForest                      0:02:39       0.8052    0.8183\n",
      "         1   MaxAbsScaler XGBoostClassifier                 0:01:01       0.7985    0.8183\n",
      "         9   StandardScalerWrapper XGBoostClassifier        0:00:57       0.7985    0.8183\n",
      "         6   StandardScalerWrapper XGBoostClassifier        0:01:08       0.8217    0.8217\n",
      "        10   StandardScalerWrapper XGBoostClassifier        0:01:09       0.8348    0.8348\n",
      "        11   MaxAbsScaler RandomForest                      0:01:16       0.7922    0.8348\n",
      "        12   SparseNormalizer XGBoostClassifier             0:00:59       0.8117    0.8348\n",
      "         5   MaxAbsScaler RandomForest                      0:05:27       0.8050    0.8348\n",
      "        13   StandardScalerWrapper GradientBoosting         0:01:08       0.8316    0.8348\n",
      "        14   SparseNormalizer XGBoostClassifier             0:01:01       0.8019    0.8348\n",
      "        15   SparseNormalizer LightGBM                      0:01:07       0.8216    0.8348\n",
      "        16   StandardScalerWrapper RandomForest             0:01:00       0.8052    0.8348\n",
      "        17   SparseNormalizer XGBoostClassifier             0:01:20       0.8118    0.8348\n",
      "        18   SparseNormalizer XGBoostClassifier             0:01:01       0.8216    0.8348\n",
      "        19   MaxAbsScaler LightGBM                          0:01:15       0.8348    0.8348\n",
      "        20   MaxAbsScaler LightGBM                          0:00:59       0.8283    0.8348\n",
      "        21   MaxAbsScaler LightGBM                          0:00:57       0.8318    0.8348\n",
      "        22   TruncatedSVDWrapper XGBoostClassifier          0:01:17       0.7457    0.8348\n",
      "        23   MaxAbsScaler LightGBM                          0:00:56       0.8285    0.8348\n",
      "        24   SparseNormalizer XGBoostClassifier             0:01:05       0.7920    0.8348\n",
      "        25   TruncatedSVDWrapper XGBoostClassifier          0:01:01       0.5445    0.8348\n",
      "        26   MaxAbsScaler RandomForest                      0:00:57       0.8217    0.8348\n",
      "        27   MaxAbsScaler LightGBM                          0:01:00       0.8285    0.8348\n",
      "        28   MaxAbsScaler LightGBM                          0:01:01       0.8251    0.8348\n",
      "        29   MaxAbsScaler RandomForest                      0:01:00       0.8250    0.8348\n",
      "        30   MaxAbsScaler LightGBM                          0:01:00       0.7096    0.8348\n",
      "        31   StandardScalerWrapper XGBoostClassifier        0:01:10       0.8084    0.8348\n",
      "        32   MaxAbsScaler LightGBM                          0:01:08       0.8216    0.8348\n",
      "        33   MaxAbsScaler LightGBM                          0:00:58       0.8151    0.8348\n",
      "        34   MaxAbsScaler RandomForest                      0:01:09       0.8317    0.8348\n",
      "        35   SparseNormalizer LightGBM                      0:01:00       0.7919    0.8348\n",
      "        36   StandardScalerWrapper RandomForest             0:00:57       0.8053    0.8348\n",
      "        37   StandardScalerWrapper LightGBM                 0:01:06       0.8316    0.8348\n",
      "        38   SparseNormalizer XGBoostClassifier             0:01:05       0.8055    0.8348\n",
      "        39   StandardScalerWrapper LightGBM                 0:00:59       0.7887    0.8348\n",
      "        40   StandardScalerWrapper LightGBM                 0:00:52       0.8118    0.8348\n",
      "        41                                                  0:00:15          nan    0.8348\n",
      "        42                                                  0:02:21          nan    0.8348\n",
      "        43                                                  0:01:49          nan    0.8348\n",
      "        44                                                  0:01:35          nan    0.8348\n",
      "        45                                                  0:01:18          nan    0.8348\n",
      "        46                                                  0:01:06          nan    0.8348\n",
      "        47                                                  0:00:27          nan    0.8348\n",
      "        48                                                  0:00:16          nan    0.8348\n",
      "        49    VotingEnsemble                                0:01:05       0.8448    0.8448\n",
      "        50    StackEnsemble                                 0:01:11       0.8184    0.8448\n"
     ]
    }
   ],
   "source": [
    "#submitting experiment\n",
    "remote_run = experiment.submit(automl_config,show_output=True)"
   ]
  },
  {
   "cell_type": "markdown",
   "metadata": {},
   "source": [
    "## Run Details\n"
   ]
  },
  {
   "cell_type": "code",
   "execution_count": 8,
   "metadata": {
    "gather": {
     "logged": 1598431121770
    },
    "jupyter": {
     "outputs_hidden": false,
     "source_hidden": false
    },
    "nteract": {
     "transient": {
      "deleting": false
     }
    }
   },
   "outputs": [
    {
     "data": {
      "application/vnd.jupyter.widget-view+json": {
       "model_id": "3d9036a3f0bc4f2796689681fc8a540e",
       "version_major": 2,
       "version_minor": 0
      },
      "text/plain": [
       "_AutoMLWidget(widget_settings={'childWidgetDisplay': 'popup', 'send_telemetry': False, 'log_level': 'INFO', 's…"
      ]
     },
     "metadata": {},
     "output_type": "display_data"
    },
    {
     "data": {
      "application/aml.mini.widget.v1": "{\"status\": \"Completed\", \"workbench_run_details_uri\": \"https://ml.azure.com/runs/AutoML_eaf562aa-79f3-44b6-9592-aa6dec49470e?wsid=/subscriptions/1b944a9b-fdae-4f97-aeb1-b7eea0beac53/resourcegroups/aml-quickstarts-143190/workspaces/quick-starts-ws-143190&tid=660b3398-b80e-49d2-bc5b-ac1dc93b5254\", \"run_id\": \"AutoML_eaf562aa-79f3-44b6-9592-aa6dec49470e\", \"run_properties\": {\"run_id\": \"AutoML_eaf562aa-79f3-44b6-9592-aa6dec49470e\", \"created_utc\": \"2021-04-19T21:55:03.71166Z\", \"properties\": {\"num_iterations\": \"1000\", \"training_type\": \"TrainFull\", \"acquisition_function\": \"EI\", \"primary_metric\": \"accuracy\", \"train_split\": \"0\", \"acquisition_parameter\": \"0\", \"num_cross_validation\": \"5\", \"target\": \"cpu-cluster\", \"AMLSettingsJsonString\": \"{\\\"path\\\":null,\\\"name\\\":\\\"AutoML_Demo_Experiment_1618869290.1873217\\\",\\\"subscription_id\\\":\\\"1b944a9b-fdae-4f97-aeb1-b7eea0beac53\\\",\\\"resource_group\\\":\\\"aml-quickstarts-143190\\\",\\\"workspace_name\\\":\\\"quick-starts-ws-143190\\\",\\\"region\\\":\\\"southcentralus\\\",\\\"compute_target\\\":\\\"cpu-cluster\\\",\\\"spark_service\\\":null,\\\"azure_service\\\":\\\"remote\\\",\\\"many_models\\\":false,\\\"pipeline_fetch_max_batch_size\\\":1,\\\"enable_batch_run\\\":false,\\\"enable_run_restructure\\\":false,\\\"iterations\\\":1000,\\\"primary_metric\\\":\\\"accuracy\\\",\\\"task_type\\\":\\\"classification\\\",\\\"data_script\\\":null,\\\"test_size\\\":0.0,\\\"validation_size\\\":0.0,\\\"n_cross_validations\\\":5,\\\"y_min\\\":null,\\\"y_max\\\":null,\\\"num_classes\\\":null,\\\"featurization\\\":\\\"auto\\\",\\\"_ignore_package_version_incompatibilities\\\":false,\\\"is_timeseries\\\":false,\\\"max_cores_per_iteration\\\":1,\\\"max_concurrent_iterations\\\":10,\\\"iteration_timeout_minutes\\\":10,\\\"mem_in_mb\\\":null,\\\"enforce_time_on_windows\\\":false,\\\"experiment_timeout_minutes\\\":30,\\\"experiment_exit_score\\\":null,\\\"whitelist_models\\\":null,\\\"blacklist_algos\\\":[\\\"TensorFlowLinearClassifier\\\",\\\"TensorFlowDNN\\\"],\\\"supported_models\\\":[\\\"KNN\\\",\\\"LinearSVM\\\",\\\"AveragedPerceptronClassifier\\\",\\\"LightGBM\\\",\\\"DecisionTree\\\",\\\"XGBoostClassifier\\\",\\\"TensorFlowDNN\\\",\\\"LogisticRegression\\\",\\\"MultinomialNaiveBayes\\\",\\\"RandomForest\\\",\\\"SVM\\\",\\\"ExtremeRandomTrees\\\",\\\"BernoulliNaiveBayes\\\",\\\"GradientBoosting\\\",\\\"TensorFlowLinearClassifier\\\",\\\"SGD\\\"],\\\"private_models\\\":[],\\\"auto_blacklist\\\":true,\\\"blacklist_samples_reached\\\":false,\\\"exclude_nan_labels\\\":true,\\\"verbosity\\\":20,\\\"_debug_log\\\":\\\"azureml_automl.log\\\",\\\"show_warnings\\\":false,\\\"model_explainability\\\":true,\\\"service_url\\\":null,\\\"sdk_url\\\":null,\\\"sdk_packages\\\":null,\\\"enable_onnx_compatible_models\\\":false,\\\"enable_split_onnx_featurizer_estimator_models\\\":false,\\\"vm_type\\\":\\\"STANDARD_D2_V2\\\",\\\"telemetry_verbosity\\\":20,\\\"send_telemetry\\\":true,\\\"enable_dnn\\\":false,\\\"scenario\\\":\\\"SDK-1.13.0\\\",\\\"environment_label\\\":null,\\\"save_mlflow\\\":false,\\\"force_text_dnn\\\":false,\\\"enable_feature_sweeping\\\":true,\\\"enable_early_stopping\\\":true,\\\"early_stopping_n_iters\\\":10,\\\"metrics\\\":null,\\\"enable_metric_confidence\\\":false,\\\"enable_ensembling\\\":true,\\\"enable_stack_ensembling\\\":true,\\\"ensemble_iterations\\\":15,\\\"enable_tf\\\":false,\\\"enable_subsampling\\\":null,\\\"subsample_seed\\\":null,\\\"enable_nimbusml\\\":false,\\\"enable_streaming\\\":false,\\\"force_streaming\\\":false,\\\"track_child_runs\\\":true,\\\"allowed_private_models\\\":[],\\\"label_column_name\\\":\\\"target\\\",\\\"weight_column_name\\\":null,\\\"cv_split_column_names\\\":null,\\\"enable_local_managed\\\":false,\\\"_local_managed_run_id\\\":null,\\\"cost_mode\\\":1,\\\"lag_length\\\":0,\\\"metric_operation\\\":\\\"maximize\\\",\\\"preprocess\\\":true}\", \"DataPrepJsonString\": \"{\\\\\\\"training_data\\\\\\\": {\\\\\\\"datasetId\\\\\\\": \\\\\\\"b5e87fad-54bd-4914-9739-7df91b741e01\\\\\\\"}, \\\\\\\"datasets\\\\\\\": 0}\", \"EnableSubsampling\": null, \"runTemplate\": \"AutoML\", \"azureml.runsource\": \"automl\", \"display_task_type\": \"classification\", \"dependencies_versions\": \"{\\\"azureml-widgets\\\": \\\"1.26.0\\\", \\\"azureml-train\\\": \\\"1.26.0\\\", \\\"azureml-train-restclients-hyperdrive\\\": \\\"1.26.0\\\", \\\"azureml-train-core\\\": \\\"1.26.0\\\", \\\"azureml-train-automl\\\": \\\"1.26.0\\\", \\\"azureml-train-automl-runtime\\\": \\\"1.26.0\\\", \\\"azureml-train-automl-client\\\": \\\"1.26.0\\\", \\\"azureml-tensorboard\\\": \\\"1.26.0\\\", \\\"azureml-telemetry\\\": \\\"1.26.0\\\", \\\"azureml-sdk\\\": \\\"1.26.0\\\", \\\"azureml-samples\\\": \\\"0+unknown\\\", \\\"azureml-pipeline\\\": \\\"1.26.0\\\", \\\"azureml-pipeline-steps\\\": \\\"1.26.0\\\", \\\"azureml-pipeline-core\\\": \\\"1.26.0\\\", \\\"azureml-opendatasets\\\": \\\"1.26.0\\\", \\\"azureml-model-management-sdk\\\": \\\"1.0.1b6.post1\\\", \\\"azureml-mlflow\\\": \\\"1.26.0\\\", \\\"azureml-interpret\\\": \\\"1.26.0\\\", \\\"azureml-explain-model\\\": \\\"1.26.0\\\", \\\"azureml-defaults\\\": \\\"1.26.0\\\", \\\"azureml-dataset-runtime\\\": \\\"1.26.0\\\", \\\"azureml-dataprep\\\": \\\"2.13.2\\\", \\\"azureml-dataprep-rslex\\\": \\\"1.11.2\\\", \\\"azureml-dataprep-native\\\": \\\"32.0.0\\\", \\\"azureml-datadrift\\\": \\\"1.26.0\\\", \\\"azureml-core\\\": \\\"1.26.0\\\", \\\"azureml-contrib-services\\\": \\\"1.26.0\\\", \\\"azureml-contrib-server\\\": \\\"1.26.0\\\", \\\"azureml-contrib-reinforcementlearning\\\": \\\"1.26.0\\\", \\\"azureml-contrib-pipeline-steps\\\": \\\"1.26.0\\\", \\\"azureml-contrib-notebook\\\": \\\"1.26.0\\\", \\\"azureml-contrib-gbdt\\\": \\\"1.26.0\\\", \\\"azureml-contrib-fairness\\\": \\\"1.26.0\\\", \\\"azureml-contrib-dataset\\\": \\\"1.26.0\\\", \\\"azureml-cli-common\\\": \\\"1.26.0\\\", \\\"azureml-automl-runtime\\\": \\\"1.26.0\\\", \\\"azureml-automl-dnn-nlp\\\": \\\"1.26.0\\\", \\\"azureml-automl-core\\\": \\\"1.26.0\\\", \\\"azureml-accel-models\\\": \\\"1.26.0\\\"}\", \"_aml_system_scenario_identification\": \"Remote.Parent\", \"ClientType\": \"SDK\", \"environment_cpu_name\": \"AzureML-AutoML\", \"environment_cpu_label\": \"prod\", \"environment_gpu_name\": \"AzureML-AutoML-GPU\", \"environment_gpu_label\": \"prod\", \"root_attribution\": \"automl\", \"attribution\": \"AutoML\", \"Orchestrator\": \"AutoML\", \"CancelUri\": \"https://southcentralus.experiments.azureml.net/jasmine/v1.0/subscriptions/1b944a9b-fdae-4f97-aeb1-b7eea0beac53/resourceGroups/aml-quickstarts-143190/providers/Microsoft.MachineLearningServices/workspaces/quick-starts-ws-143190/experimentids/16f42cb0-d41f-4a42-8679-b2a32db56de9/cancel/AutoML_eaf562aa-79f3-44b6-9592-aa6dec49470e\", \"ClientSdkVersion\": \"1.26.0\", \"snapshotId\": \"00000000-0000-0000-0000-000000000000\", \"SetupRunId\": \"AutoML_eaf562aa-79f3-44b6-9592-aa6dec49470e_setup\", \"SetupRunContainerId\": \"dcid.AutoML_eaf562aa-79f3-44b6-9592-aa6dec49470e_setup\", \"FeaturizationRunJsonPath\": \"featurizer_container.json\", \"FeaturizationRunId\": \"AutoML_eaf562aa-79f3-44b6-9592-aa6dec49470e_featurize\", \"ProblemInfoJsonString\": \"{\\\"dataset_num_categorical\\\": 0, \\\"is_sparse\\\": true, \\\"subsampling\\\": false, \\\"dataset_classes\\\": 2, \\\"dataset_features\\\": 27, \\\"dataset_samples\\\": 303, \\\"single_frequency_class_detected\\\": false}\", \"ModelExplainRunId\": \"AutoML_eaf562aa-79f3-44b6-9592-aa6dec49470e_ModelExplain\"}, \"tags\": {\"model_explain_run\": \"best_run\", \"_aml_system_azureml.automlComponent\": \"AutoML\", \"pipeline_id\": \"\", \"score\": \"\", \"predicted_cost\": \"\", \"fit_time\": \"\", \"training_percent\": \"\", \"iteration\": \"\", \"run_preprocessor\": \"\", \"run_algorithm\": \"\", \"dynamic_whitelisting_iterations\": \"<25>;<30>;<35>;<40>;<45>;\", \"automl_best_child_run_id\": \"AutoML_eaf562aa-79f3-44b6-9592-aa6dec49470e_49\", \"model_explain_best_run_child_id\": \"AutoML_eaf562aa-79f3-44b6-9592-aa6dec49470e_49\"}, \"end_time_utc\": \"2021-04-19T22:25:58.029301Z\", \"status\": \"Completed\", \"log_files\": {}, \"log_groups\": [], \"run_duration\": \"0:30:54\", \"run_number\": \"1\", \"run_queued_details\": {\"status\": \"Completed\", \"details\": null}}, \"child_runs\": [{\"run_id\": \"AutoML_eaf562aa-79f3-44b6-9592-aa6dec49470e_0\", \"run_number\": 5, \"metric\": null, \"status\": \"Completed\", \"run_type\": \"azureml.scriptrun\", \"training_percent\": \"100\", \"start_time\": \"2021-04-19T22:08:03.715611Z\", \"end_time\": \"2021-04-19T22:09:09.198858Z\", \"created_time\": \"2021-04-19T22:06:36.772775Z\", \"created_time_dt\": \"2021-04-19T22:06:36.772775Z\", \"duration\": \"0:02:32\", \"iteration\": \"0\", \"goal\": \"accuracy_max\", \"run_name\": \"MaxAbsScaler, LightGBM\", \"run_properties\": \"copy=True\", \"primary_metric\": 0.79185792, \"best_metric\": 0.79185792}, {\"run_id\": \"AutoML_eaf562aa-79f3-44b6-9592-aa6dec49470e_8\", \"run_number\": 6, \"metric\": null, \"status\": \"Completed\", \"run_type\": \"azureml.scriptrun\", \"training_percent\": \"100\", \"start_time\": \"2021-04-19T22:10:04.795689Z\", \"end_time\": \"2021-04-19T22:12:29.221067Z\", \"created_time\": \"2021-04-19T22:06:36.908579Z\", \"created_time_dt\": \"2021-04-19T22:06:36.908579Z\", \"duration\": \"0:05:52\", \"iteration\": \"8\", \"goal\": \"accuracy_max\", \"run_name\": \"TruncatedSVDWrapper, XGBoostClassifier\", \"run_properties\": \"n_components=0.45526315789473687, random_state=None\", \"primary_metric\": 0.78885246, \"best_metric\": 0.82169399}, {\"run_id\": \"AutoML_eaf562aa-79f3-44b6-9592-aa6dec49470e_9\", \"run_number\": 7, \"metric\": null, \"status\": \"Completed\", \"run_type\": \"azureml.scriptrun\", \"training_percent\": \"100\", \"start_time\": \"2021-04-19T22:12:43.582346Z\", \"end_time\": \"2021-04-19T22:13:40.523003Z\", \"created_time\": \"2021-04-19T22:06:36.919413Z\", \"created_time_dt\": \"2021-04-19T22:06:36.919413Z\", \"duration\": \"0:07:03\", \"iteration\": \"9\", \"goal\": \"accuracy_max\", \"run_name\": \"StandardScalerWrapper, XGBoostClassifier\", \"run_properties\": \"<azureml.automl.runtime.shared.model_wrappers.StandardScalerWrapper object at 0x7f919c3f42b0\", \"primary_metric\": 0.79852459, \"best_metric\": 0.82169399}, {\"run_id\": \"AutoML_eaf562aa-79f3-44b6-9592-aa6dec49470e_2\", \"run_number\": 8, \"metric\": null, \"status\": \"Completed\", \"run_type\": \"azureml.scriptrun\", \"training_percent\": \"100\", \"start_time\": \"2021-04-19T22:10:04.882739Z\", \"end_time\": \"2021-04-19T22:12:44.266135Z\", \"created_time\": \"2021-04-19T22:06:36.94532Z\", \"created_time_dt\": \"2021-04-19T22:06:36.94532Z\", \"duration\": \"0:06:07\", \"iteration\": \"2\", \"goal\": \"accuracy_max\", \"run_name\": \"MaxAbsScaler, RandomForest\", \"run_properties\": \"copy=True\", \"primary_metric\": 0.8052459, \"best_metric\": 0.8052459}, {\"run_id\": \"AutoML_eaf562aa-79f3-44b6-9592-aa6dec49470e_3\", \"run_number\": 9, \"metric\": null, \"status\": \"Completed\", \"run_type\": \"azureml.scriptrun\", \"training_percent\": \"100\", \"start_time\": \"2021-04-19T22:06:47.740581Z\", \"end_time\": \"2021-04-19T22:07:47.763275Z\", \"created_time\": \"2021-04-19T22:06:36.950087Z\", \"created_time_dt\": \"2021-04-19T22:06:36.950087Z\", \"duration\": \"0:01:10\", \"iteration\": \"3\", \"goal\": \"accuracy_max\", \"run_name\": \"MaxAbsScaler, RandomForest\", \"run_properties\": \"copy=True\", \"primary_metric\": 0.81480874, \"best_metric\": 0.81480874}, {\"run_id\": \"AutoML_eaf562aa-79f3-44b6-9592-aa6dec49470e_4\", \"run_number\": 10, \"metric\": null, \"status\": \"Completed\", \"run_type\": \"azureml.scriptrun\", \"training_percent\": \"100\", \"start_time\": \"2021-04-19T22:09:23.886843Z\", \"end_time\": \"2021-04-19T22:10:36.803382Z\", \"created_time\": \"2021-04-19T22:06:36.964769Z\", \"created_time_dt\": \"2021-04-19T22:06:36.964769Z\", \"duration\": \"0:03:59\", \"iteration\": \"4\", \"goal\": \"accuracy_max\", \"run_name\": \"MaxAbsScaler, RandomForest\", \"run_properties\": \"copy=True\", \"primary_metric\": 0.81502732, \"best_metric\": 0.81502732}, {\"run_id\": \"AutoML_eaf562aa-79f3-44b6-9592-aa6dec49470e_7\", \"run_number\": 11, \"metric\": null, \"status\": \"Completed\", \"run_type\": \"azureml.scriptrun\", \"training_percent\": \"100\", \"start_time\": \"2021-04-19T22:10:49.045399Z\", \"end_time\": \"2021-04-19T22:11:53.037824Z\", \"created_time\": \"2021-04-19T22:06:36.973163Z\", \"created_time_dt\": \"2021-04-19T22:06:36.973163Z\", \"duration\": \"0:05:16\", \"iteration\": \"7\", \"goal\": \"accuracy_max\", \"run_name\": \"SparseNormalizer, XGBoostClassifier\", \"run_properties\": \"<azureml.automl.runtime.shared.model_wrappers.SparseNormalizer object at 0x7f4fbc37cf60\", \"primary_metric\": 0.81830601, \"best_metric\": 0.82169399}, {\"run_id\": \"AutoML_eaf562aa-79f3-44b6-9592-aa6dec49470e_5\", \"run_number\": 12, \"metric\": null, \"status\": \"Completed\", \"run_type\": \"azureml.scriptrun\", \"training_percent\": \"100\", \"start_time\": \"2021-04-19T22:10:13.144078Z\", \"end_time\": \"2021-04-19T22:15:40.282621Z\", \"created_time\": \"2021-04-19T22:06:37.015377Z\", \"created_time_dt\": \"2021-04-19T22:06:37.015377Z\", \"duration\": \"0:09:03\", \"iteration\": \"5\", \"goal\": \"accuracy_max\", \"run_name\": \"MaxAbsScaler, RandomForest\", \"run_properties\": \"copy=True\", \"primary_metric\": 0.80497268, \"best_metric\": 0.81502732}, {\"run_id\": \"AutoML_eaf562aa-79f3-44b6-9592-aa6dec49470e_1\", \"run_number\": 13, \"metric\": null, \"status\": \"Completed\", \"run_type\": \"azureml.scriptrun\", \"training_percent\": \"100\", \"start_time\": \"2021-04-19T22:12:07.718329Z\", \"end_time\": \"2021-04-19T22:13:08.694293Z\", \"created_time\": \"2021-04-19T22:06:37.066943Z\", \"created_time_dt\": \"2021-04-19T22:06:37.066943Z\", \"duration\": \"0:06:31\", \"iteration\": \"1\", \"goal\": \"accuracy_max\", \"run_name\": \"MaxAbsScaler, XGBoostClassifier\", \"run_properties\": \"copy=True\", \"primary_metric\": 0.79852459, \"best_metric\": 0.79852459}, {\"run_id\": \"AutoML_eaf562aa-79f3-44b6-9592-aa6dec49470e_6\", \"run_number\": 14, \"metric\": null, \"status\": \"Completed\", \"run_type\": \"azureml.scriptrun\", \"training_percent\": \"100\", \"start_time\": \"2021-04-19T22:13:01.478544Z\", \"end_time\": \"2021-04-19T22:14:09.610564Z\", \"created_time\": \"2021-04-19T22:06:36.951636Z\", \"created_time_dt\": \"2021-04-19T22:06:36.951636Z\", \"duration\": \"0:07:32\", \"iteration\": \"6\", \"goal\": \"accuracy_max\", \"run_name\": \"StandardScalerWrapper, XGBoostClassifier\", \"run_properties\": \"<azureml.automl.runtime.shared.model_wrappers.StandardScalerWrapper object at 0x7f4daed6d9b0\", \"primary_metric\": 0.82169399, \"best_metric\": 0.82169399}, {\"run_id\": \"AutoML_eaf562aa-79f3-44b6-9592-aa6dec49470e_10\", \"run_number\": 15, \"metric\": null, \"status\": \"Completed\", \"run_type\": \"azureml.scriptrun\", \"training_percent\": \"100\", \"start_time\": \"2021-04-19T22:13:23.755817Z\", \"end_time\": \"2021-04-19T22:14:32.762174Z\", \"created_time\": \"2021-04-19T22:07:52.926588Z\", \"created_time_dt\": \"2021-04-19T22:07:52.926588Z\", \"duration\": \"0:06:39\", \"iteration\": \"10\", \"goal\": \"accuracy_max\", \"run_name\": \"StandardScalerWrapper, XGBoostClassifier\", \"run_properties\": \"<azureml.automl.runtime.shared.model_wrappers.StandardScalerWrapper object at 0x7f36d2acd898\", \"primary_metric\": 0.8347541, \"best_metric\": 0.8347541}, {\"run_id\": \"AutoML_eaf562aa-79f3-44b6-9592-aa6dec49470e_11\", \"run_number\": 16, \"metric\": null, \"status\": \"Completed\", \"run_type\": \"azureml.scriptrun\", \"training_percent\": \"100\", \"start_time\": \"2021-04-19T22:13:55.294243Z\", \"end_time\": \"2021-04-19T22:15:11.632645Z\", \"created_time\": \"2021-04-19T22:09:14.555126Z\", \"created_time_dt\": \"2021-04-19T22:09:14.555126Z\", \"duration\": \"0:05:57\", \"iteration\": \"11\", \"goal\": \"accuracy_max\", \"run_name\": \"MaxAbsScaler, RandomForest\", \"run_properties\": \"copy=True\", \"primary_metric\": 0.79218579, \"best_metric\": 0.8347541}, {\"run_id\": \"AutoML_eaf562aa-79f3-44b6-9592-aa6dec49470e_12\", \"run_number\": 17, \"metric\": null, \"status\": \"Completed\", \"run_type\": \"azureml.scriptrun\", \"training_percent\": \"100\", \"start_time\": \"2021-04-19T22:14:19.53552Z\", \"end_time\": \"2021-04-19T22:15:18.639Z\", \"created_time\": \"2021-04-19T22:10:39.733294Z\", \"created_time_dt\": \"2021-04-19T22:10:39.733294Z\", \"duration\": \"0:04:38\", \"iteration\": \"12\", \"goal\": \"accuracy_max\", \"run_name\": \"SparseNormalizer, XGBoostClassifier\", \"run_properties\": \"<azureml.automl.runtime.shared.model_wrappers.SparseNormalizer object at 0x7fefe58e55c0\", \"primary_metric\": 0.81169399, \"best_metric\": 0.8347541}, {\"run_id\": \"AutoML_eaf562aa-79f3-44b6-9592-aa6dec49470e_13\", \"run_number\": 18, \"metric\": null, \"status\": \"Completed\", \"run_type\": \"azureml.scriptrun\", \"training_percent\": \"100\", \"start_time\": \"2021-04-19T22:14:48.117174Z\", \"end_time\": \"2021-04-19T22:15:55.937878Z\", \"created_time\": \"2021-04-19T22:11:55.757524Z\", \"created_time_dt\": \"2021-04-19T22:11:55.757524Z\", \"duration\": \"0:04:00\", \"iteration\": \"13\", \"goal\": \"accuracy_max\", \"run_name\": \"StandardScalerWrapper, GradientBoosting\", \"run_properties\": \"<azureml.automl.runtime.shared.model_wrappers.StandardScalerWrapper object at 0x7f33e92af908\", \"primary_metric\": 0.83163934, \"best_metric\": 0.8347541}, {\"run_id\": \"AutoML_eaf562aa-79f3-44b6-9592-aa6dec49470e_14\", \"run_number\": 19, \"metric\": null, \"status\": \"Completed\", \"run_type\": \"azureml.scriptrun\", \"training_percent\": \"100\", \"start_time\": \"2021-04-19T22:15:20.887569Z\", \"end_time\": \"2021-04-19T22:16:22.066951Z\", \"created_time\": \"2021-04-19T22:12:33.13928Z\", \"created_time_dt\": \"2021-04-19T22:12:33.13928Z\", \"duration\": \"0:03:48\", \"iteration\": \"14\", \"goal\": \"accuracy_max\", \"run_name\": \"SparseNormalizer, XGBoostClassifier\", \"run_properties\": \"<azureml.automl.runtime.shared.model_wrappers.SparseNormalizer object at 0x7fab8f626e48\", \"primary_metric\": 0.80185792, \"best_metric\": 0.8347541}, {\"run_id\": \"AutoML_eaf562aa-79f3-44b6-9592-aa6dec49470e_15\", \"run_number\": 20, \"metric\": null, \"status\": \"Completed\", \"run_type\": \"azureml.scriptrun\", \"training_percent\": \"100\", \"start_time\": \"2021-04-19T22:15:33.394951Z\", \"end_time\": \"2021-04-19T22:16:39.934655Z\", \"created_time\": \"2021-04-19T22:12:46.681517Z\", \"created_time_dt\": \"2021-04-19T22:12:46.681517Z\", \"duration\": \"0:03:53\", \"iteration\": \"15\", \"goal\": \"accuracy_max\", \"run_name\": \"SparseNormalizer, LightGBM\", \"run_properties\": \"<azureml.automl.runtime.shared.model_wrappers.SparseNormalizer object at 0x7fbe4ce933c8\", \"primary_metric\": 0.82163934, \"best_metric\": 0.8347541}, {\"run_id\": \"AutoML_eaf562aa-79f3-44b6-9592-aa6dec49470e_16\", \"run_number\": 21, \"metric\": null, \"status\": \"Completed\", \"run_type\": \"azureml.scriptrun\", \"training_percent\": \"100\", \"start_time\": \"2021-04-19T22:15:54.156567Z\", \"end_time\": \"2021-04-19T22:16:53.769236Z\", \"created_time\": \"2021-04-19T22:13:10.90912Z\", \"created_time_dt\": \"2021-04-19T22:13:10.90912Z\", \"duration\": \"0:03:42\", \"iteration\": \"16\", \"goal\": \"accuracy_max\", \"run_name\": \"StandardScalerWrapper, RandomForest\", \"run_properties\": \"<azureml.automl.runtime.shared.model_wrappers.StandardScalerWrapper object at 0x7fdde45f7ac8\", \"primary_metric\": 0.8052459, \"best_metric\": 0.8347541}, {\"run_id\": \"AutoML_eaf562aa-79f3-44b6-9592-aa6dec49470e_17\", \"run_number\": 22, \"metric\": null, \"status\": \"Completed\", \"run_type\": \"azureml.scriptrun\", \"training_percent\": \"100\", \"start_time\": \"2021-04-19T22:16:13.830057Z\", \"end_time\": \"2021-04-19T22:17:33.48562Z\", \"created_time\": \"2021-04-19T22:13:42.59828Z\", \"created_time_dt\": \"2021-04-19T22:13:42.59828Z\", \"duration\": \"0:03:50\", \"iteration\": \"17\", \"goal\": \"accuracy_max\", \"run_name\": \"SparseNormalizer, XGBoostClassifier\", \"run_properties\": \"<azureml.automl.runtime.shared.model_wrappers.SparseNormalizer object at 0x7f0f3c083ef0\", \"primary_metric\": 0.81180328, \"best_metric\": 0.8347541}, {\"run_id\": \"AutoML_eaf562aa-79f3-44b6-9592-aa6dec49470e_18\", \"run_number\": 23, \"metric\": null, \"status\": \"Completed\", \"run_type\": \"azureml.scriptrun\", \"training_percent\": \"100\", \"start_time\": \"2021-04-19T22:16:34.106185Z\", \"end_time\": \"2021-04-19T22:17:35.414383Z\", \"created_time\": \"2021-04-19T22:14:12.482494Z\", \"created_time_dt\": \"2021-04-19T22:14:12.482494Z\", \"duration\": \"0:03:22\", \"iteration\": \"18\", \"goal\": \"accuracy_max\", \"run_name\": \"SparseNormalizer, XGBoostClassifier\", \"run_properties\": \"<azureml.automl.runtime.shared.model_wrappers.SparseNormalizer object at 0x7f3758c8d358\", \"primary_metric\": 0.82163934, \"best_metric\": 0.8347541}, {\"run_id\": \"AutoML_eaf562aa-79f3-44b6-9592-aa6dec49470e_19\", \"run_number\": 24, \"metric\": null, \"status\": \"Completed\", \"run_type\": \"azureml.scriptrun\", \"training_percent\": \"100\", \"start_time\": \"2021-04-19T22:16:53.81407Z\", \"end_time\": \"2021-04-19T22:18:09.037129Z\", \"created_time\": \"2021-04-19T22:14:35.359099Z\", \"created_time_dt\": \"2021-04-19T22:14:35.359099Z\", \"duration\": \"0:03:33\", \"iteration\": \"19\", \"goal\": \"accuracy_max\", \"run_name\": \"MaxAbsScaler, LightGBM\", \"run_properties\": \"copy=True\", \"primary_metric\": 0.83480874, \"best_metric\": 0.83480874}, {\"run_id\": \"AutoML_eaf562aa-79f3-44b6-9592-aa6dec49470e_20\", \"run_number\": 25, \"metric\": null, \"status\": \"Completed\", \"run_type\": \"azureml.scriptrun\", \"training_percent\": \"100\", \"start_time\": \"2021-04-19T22:17:08.784176Z\", \"end_time\": \"2021-04-19T22:18:07.51213Z\", \"created_time\": \"2021-04-19T22:15:15.271659Z\", \"created_time_dt\": \"2021-04-19T22:15:15.271659Z\", \"duration\": \"0:02:52\", \"iteration\": \"20\", \"goal\": \"accuracy_max\", \"run_name\": \"MaxAbsScaler, LightGBM\", \"run_properties\": \"copy=True\", \"primary_metric\": 0.82830601, \"best_metric\": 0.83480874}, {\"run_id\": \"AutoML_eaf562aa-79f3-44b6-9592-aa6dec49470e_21\", \"run_number\": 26, \"metric\": null, \"status\": \"Completed\", \"run_type\": \"azureml.scriptrun\", \"training_percent\": \"100\", \"start_time\": \"2021-04-19T22:17:51.613997Z\", \"end_time\": \"2021-04-19T22:18:48.971408Z\", \"created_time\": \"2021-04-19T22:15:20.975746Z\", \"created_time_dt\": \"2021-04-19T22:15:20.975746Z\", \"duration\": \"0:03:27\", \"iteration\": \"21\", \"goal\": \"accuracy_max\", \"run_name\": \"MaxAbsScaler, LightGBM\", \"run_properties\": \"copy=True\", \"primary_metric\": 0.83180328, \"best_metric\": 0.83480874}, {\"run_id\": \"AutoML_eaf562aa-79f3-44b6-9592-aa6dec49470e_22\", \"run_number\": 27, \"metric\": null, \"status\": \"Completed\", \"run_type\": \"azureml.scriptrun\", \"training_percent\": \"100\", \"start_time\": \"2021-04-19T22:17:48.551985Z\", \"end_time\": \"2021-04-19T22:19:05.314971Z\", \"created_time\": \"2021-04-19T22:15:42.494628Z\", \"created_time_dt\": \"2021-04-19T22:15:42.494628Z\", \"duration\": \"0:03:22\", \"iteration\": \"22\", \"goal\": \"accuracy_max\", \"run_name\": \"TruncatedSVDWrapper, XGBoostClassifier\", \"run_properties\": \"n_components=0.95, random_state=None\", \"primary_metric\": 0.7457377, \"best_metric\": 0.83480874}, {\"run_id\": \"AutoML_eaf562aa-79f3-44b6-9592-aa6dec49470e_23\", \"run_number\": 28, \"metric\": null, \"status\": \"Completed\", \"run_type\": \"azureml.scriptrun\", \"training_percent\": \"100\", \"start_time\": \"2021-04-19T22:18:20.018105Z\", \"end_time\": \"2021-04-19T22:19:15.927501Z\", \"created_time\": \"2021-04-19T22:15:58.713214Z\", \"created_time_dt\": \"2021-04-19T22:15:58.713214Z\", \"duration\": \"0:03:17\", \"iteration\": \"23\", \"goal\": \"accuracy_max\", \"run_name\": \"MaxAbsScaler, LightGBM\", \"run_properties\": \"copy=True\", \"primary_metric\": 0.82846995, \"best_metric\": 0.83480874}, {\"run_id\": \"AutoML_eaf562aa-79f3-44b6-9592-aa6dec49470e_24\", \"run_number\": 29, \"metric\": null, \"status\": \"Completed\", \"run_type\": \"azureml.scriptrun\", \"training_percent\": \"100\", \"start_time\": \"2021-04-19T22:18:24.425928Z\", \"end_time\": \"2021-04-19T22:19:29.839496Z\", \"created_time\": \"2021-04-19T22:16:24.379488Z\", \"created_time_dt\": \"2021-04-19T22:16:24.379488Z\", \"duration\": \"0:03:05\", \"iteration\": \"24\", \"goal\": \"accuracy_max\", \"run_name\": \"SparseNormalizer, XGBoostClassifier\", \"run_properties\": \"<azureml.automl.runtime.shared.model_wrappers.SparseNormalizer object at 0x7fc901a38fd0\", \"primary_metric\": 0.79202186, \"best_metric\": 0.83480874}, {\"run_id\": \"AutoML_eaf562aa-79f3-44b6-9592-aa6dec49470e_25\", \"run_number\": 30, \"metric\": null, \"status\": \"Completed\", \"run_type\": \"azureml.scriptrun\", \"training_percent\": \"100\", \"start_time\": \"2021-04-19T22:19:07.143237Z\", \"end_time\": \"2021-04-19T22:20:08.086942Z\", \"created_time\": \"2021-04-19T22:16:42.918104Z\", \"created_time_dt\": \"2021-04-19T22:16:42.918104Z\", \"duration\": \"0:03:25\", \"iteration\": \"25\", \"goal\": \"accuracy_max\", \"run_name\": \"TruncatedSVDWrapper, XGBoostClassifier\", \"run_properties\": \"n_components=0.2573684210526316, random_state=None\", \"primary_metric\": 0.54453552, \"best_metric\": 0.83480874}, {\"run_id\": \"AutoML_eaf562aa-79f3-44b6-9592-aa6dec49470e_26\", \"run_number\": 31, \"metric\": null, \"status\": \"Completed\", \"run_type\": \"azureml.scriptrun\", \"training_percent\": \"100\", \"start_time\": \"2021-04-19T22:19:20.873533Z\", \"end_time\": \"2021-04-19T22:20:17.490024Z\", \"created_time\": \"2021-04-19T22:16:56.034847Z\", \"created_time_dt\": \"2021-04-19T22:16:56.034847Z\", \"duration\": \"0:03:21\", \"iteration\": \"26\", \"goal\": \"accuracy_max\", \"run_name\": \"MaxAbsScaler, RandomForest\", \"run_properties\": \"copy=True\", \"primary_metric\": 0.82169399, \"best_metric\": 0.83480874}, {\"run_id\": \"AutoML_eaf562aa-79f3-44b6-9592-aa6dec49470e_27\", \"run_number\": 32, \"metric\": null, \"status\": \"Completed\", \"run_type\": \"azureml.scriptrun\", \"training_percent\": \"100\", \"start_time\": \"2021-04-19T22:19:33.840147Z\", \"end_time\": \"2021-04-19T22:20:33.664356Z\", \"created_time\": \"2021-04-19T22:17:35.555033Z\", \"created_time_dt\": \"2021-04-19T22:17:35.555033Z\", \"duration\": \"0:02:58\", \"iteration\": \"27\", \"goal\": \"accuracy_max\", \"run_name\": \"MaxAbsScaler, LightGBM\", \"run_properties\": \"copy=True\", \"primary_metric\": 0.82846995, \"best_metric\": 0.83480874}, {\"run_id\": \"AutoML_eaf562aa-79f3-44b6-9592-aa6dec49470e_28\", \"run_number\": 33, \"metric\": null, \"status\": \"Completed\", \"run_type\": \"azureml.scriptrun\", \"training_percent\": \"100\", \"start_time\": \"2021-04-19T22:19:43.786295Z\", \"end_time\": \"2021-04-19T22:20:45.235629Z\", \"created_time\": \"2021-04-19T22:17:39.632174Z\", \"created_time_dt\": \"2021-04-19T22:17:39.632174Z\", \"duration\": \"0:03:05\", \"iteration\": \"28\", \"goal\": \"accuracy_max\", \"run_name\": \"MaxAbsScaler, LightGBM\", \"run_properties\": \"copy=True\", \"primary_metric\": 0.82508197, \"best_metric\": 0.83480874}, {\"run_id\": \"AutoML_eaf562aa-79f3-44b6-9592-aa6dec49470e_29\", \"run_number\": 34, \"metric\": null, \"status\": \"Completed\", \"run_type\": \"azureml.scriptrun\", \"training_percent\": \"100\", \"start_time\": \"2021-04-19T22:20:27.087686Z\", \"end_time\": \"2021-04-19T22:21:26.862342Z\", \"created_time\": \"2021-04-19T22:18:10.303411Z\", \"created_time_dt\": \"2021-04-19T22:18:10.303411Z\", \"duration\": \"0:03:16\", \"iteration\": \"29\", \"goal\": \"accuracy_max\", \"run_name\": \"MaxAbsScaler, RandomForest\", \"run_properties\": \"copy=True\", \"primary_metric\": 0.82502732, \"best_metric\": 0.83480874}, {\"run_id\": \"AutoML_eaf562aa-79f3-44b6-9592-aa6dec49470e_30\", \"run_number\": 35, \"metric\": null, \"status\": \"Completed\", \"run_type\": \"azureml.scriptrun\", \"training_percent\": \"100\", \"start_time\": \"2021-04-19T22:20:32.167306Z\", \"end_time\": \"2021-04-19T22:21:32.086884Z\", \"created_time\": \"2021-04-19T22:18:15.979897Z\", \"created_time_dt\": \"2021-04-19T22:18:15.979897Z\", \"duration\": \"0:03:16\", \"iteration\": \"30\", \"goal\": \"accuracy_max\", \"run_name\": \"MaxAbsScaler, LightGBM\", \"run_properties\": \"copy=True\", \"primary_metric\": 0.70961749, \"best_metric\": 0.83480874}, {\"run_id\": \"AutoML_eaf562aa-79f3-44b6-9592-aa6dec49470e_31\", \"run_number\": 36, \"metric\": null, \"status\": \"Completed\", \"run_type\": \"azureml.scriptrun\", \"training_percent\": \"100\", \"start_time\": \"2021-04-19T22:20:47.054465Z\", \"end_time\": \"2021-04-19T22:21:56.914834Z\", \"created_time\": \"2021-04-19T22:18:51.255922Z\", \"created_time_dt\": \"2021-04-19T22:18:51.255922Z\", \"duration\": \"0:03:05\", \"iteration\": \"31\", \"goal\": \"accuracy_max\", \"run_name\": \"StandardScalerWrapper, XGBoostClassifier\", \"run_properties\": \"<azureml.automl.runtime.shared.model_wrappers.StandardScalerWrapper object at 0x7f3e700ff320\", \"primary_metric\": 0.80836066, \"best_metric\": 0.83480874}, {\"run_id\": \"AutoML_eaf562aa-79f3-44b6-9592-aa6dec49470e_32\", \"run_number\": 37, \"metric\": null, \"status\": \"Completed\", \"run_type\": \"azureml.scriptrun\", \"training_percent\": \"100\", \"start_time\": \"2021-04-19T22:20:58.35866Z\", \"end_time\": \"2021-04-19T22:22:06.696656Z\", \"created_time\": \"2021-04-19T22:19:07.655912Z\", \"created_time_dt\": \"2021-04-19T22:19:07.655912Z\", \"duration\": \"0:02:59\", \"iteration\": \"32\", \"goal\": \"accuracy_max\", \"run_name\": \"MaxAbsScaler, LightGBM\", \"run_properties\": \"copy=True\", \"primary_metric\": 0.8215847, \"best_metric\": 0.83480874}, {\"run_id\": \"AutoML_eaf562aa-79f3-44b6-9592-aa6dec49470e_33\", \"run_number\": 38, \"metric\": null, \"status\": \"Completed\", \"run_type\": \"azureml.scriptrun\", \"training_percent\": \"100\", \"start_time\": \"2021-04-19T22:21:39.326733Z\", \"end_time\": \"2021-04-19T22:22:37.399006Z\", \"created_time\": \"2021-04-19T22:19:18.503916Z\", \"created_time_dt\": \"2021-04-19T22:19:18.503916Z\", \"duration\": \"0:03:18\", \"iteration\": \"33\", \"goal\": \"accuracy_max\", \"run_name\": \"MaxAbsScaler, LightGBM\", \"run_properties\": \"copy=True\", \"primary_metric\": 0.81513661, \"best_metric\": 0.83480874}, {\"run_id\": \"AutoML_eaf562aa-79f3-44b6-9592-aa6dec49470e_34\", \"run_number\": 39, \"metric\": null, \"status\": \"Completed\", \"run_type\": \"azureml.scriptrun\", \"training_percent\": \"100\", \"start_time\": \"2021-04-19T22:21:43.337325Z\", \"end_time\": \"2021-04-19T22:22:51.953316Z\", \"created_time\": \"2021-04-19T22:19:32.127859Z\", \"created_time_dt\": \"2021-04-19T22:19:32.127859Z\", \"duration\": \"0:03:19\", \"iteration\": \"34\", \"goal\": \"accuracy_max\", \"run_name\": \"MaxAbsScaler, RandomForest\", \"run_properties\": \"copy=True\", \"primary_metric\": 0.83169399, \"best_metric\": 0.83480874}, {\"run_id\": \"AutoML_eaf562aa-79f3-44b6-9592-aa6dec49470e_35\", \"run_number\": 40, \"metric\": null, \"status\": \"Completed\", \"run_type\": \"azureml.scriptrun\", \"training_percent\": \"100\", \"start_time\": \"2021-04-19T22:22:08.139069Z\", \"end_time\": \"2021-04-19T22:23:08.011236Z\", \"created_time\": \"2021-04-19T22:20:11.129824Z\", \"created_time_dt\": \"2021-04-19T22:20:11.129824Z\", \"duration\": \"0:02:56\", \"iteration\": \"35\", \"goal\": \"accuracy_max\", \"run_name\": \"SparseNormalizer, LightGBM\", \"run_properties\": \"<azureml.automl.runtime.shared.model_wrappers.SparseNormalizer object at 0x7f4b281ce080\", \"primary_metric\": 0.79191257, \"best_metric\": 0.83480874}, {\"run_id\": \"AutoML_eaf562aa-79f3-44b6-9592-aa6dec49470e_36\", \"run_number\": 41, \"metric\": null, \"status\": \"Completed\", \"run_type\": \"azureml.scriptrun\", \"training_percent\": \"100\", \"start_time\": \"2021-04-19T22:22:24.241122Z\", \"end_time\": \"2021-04-19T22:23:21.277585Z\", \"created_time\": \"2021-04-19T22:20:20.236403Z\", \"created_time_dt\": \"2021-04-19T22:20:20.236403Z\", \"duration\": \"0:03:01\", \"iteration\": \"36\", \"goal\": \"accuracy_max\", \"run_name\": \"StandardScalerWrapper, RandomForest\", \"run_properties\": \"<azureml.automl.runtime.shared.model_wrappers.StandardScalerWrapper object at 0x7fb0584560b8\", \"primary_metric\": 0.80530055, \"best_metric\": 0.83480874}, {\"run_id\": \"AutoML_eaf562aa-79f3-44b6-9592-aa6dec49470e_37\", \"run_number\": 42, \"metric\": null, \"status\": \"Completed\", \"run_type\": \"azureml.scriptrun\", \"training_percent\": \"100\", \"start_time\": \"2021-04-19T22:22:53.161391Z\", \"end_time\": \"2021-04-19T22:23:58.805835Z\", \"created_time\": \"2021-04-19T22:20:36.108202Z\", \"created_time_dt\": \"2021-04-19T22:20:36.108202Z\", \"duration\": \"0:03:22\", \"iteration\": \"37\", \"goal\": \"accuracy_max\", \"run_name\": \"StandardScalerWrapper, LightGBM\", \"run_properties\": \"<azureml.automl.runtime.shared.model_wrappers.StandardScalerWrapper object at 0x7fb225ecdc18\", \"primary_metric\": 0.83163934, \"best_metric\": 0.83480874}, {\"run_id\": \"AutoML_eaf562aa-79f3-44b6-9592-aa6dec49470e_38\", \"run_number\": 43, \"metric\": null, \"status\": \"Completed\", \"run_type\": \"azureml.scriptrun\", \"training_percent\": \"100\", \"start_time\": \"2021-04-19T22:23:05.262285Z\", \"end_time\": \"2021-04-19T22:24:10.499186Z\", \"created_time\": \"2021-04-19T22:20:47.763512Z\", \"created_time_dt\": \"2021-04-19T22:20:47.763512Z\", \"duration\": \"0:03:22\", \"iteration\": \"38\", \"goal\": \"accuracy_max\", \"run_name\": \"SparseNormalizer, XGBoostClassifier\", \"run_properties\": \"<azureml.automl.runtime.shared.model_wrappers.SparseNormalizer object at 0x7f5541f6aba8\", \"primary_metric\": 0.80551913, \"best_metric\": 0.83480874}, {\"run_id\": \"AutoML_eaf562aa-79f3-44b6-9592-aa6dec49470e_39\", \"run_number\": 44, \"metric\": null, \"status\": \"Completed\", \"run_type\": \"azureml.scriptrun\", \"training_percent\": \"100\", \"start_time\": \"2021-04-19T22:23:23.667761Z\", \"end_time\": \"2021-04-19T22:24:22.935535Z\", \"created_time\": \"2021-04-19T22:21:30.275146Z\", \"created_time_dt\": \"2021-04-19T22:21:30.275146Z\", \"duration\": \"0:02:52\", \"iteration\": \"39\", \"goal\": \"accuracy_max\", \"run_name\": \"StandardScalerWrapper, LightGBM\", \"run_properties\": \"<azureml.automl.runtime.shared.model_wrappers.StandardScalerWrapper object at 0x7f4c0987eb38\", \"primary_metric\": 0.78874317, \"best_metric\": 0.83480874}, {\"run_id\": \"AutoML_eaf562aa-79f3-44b6-9592-aa6dec49470e_40\", \"run_number\": 45, \"metric\": null, \"status\": \"Canceled\", \"run_type\": \"azureml.scriptrun\", \"training_percent\": \"100\", \"start_time\": \"2021-04-19T22:23:38.312662Z\", \"end_time\": \"2021-04-19T22:24:30.462246Z\", \"created_time\": \"2021-04-19T22:21:37.490922Z\", \"created_time_dt\": \"2021-04-19T22:21:37.490922Z\", \"duration\": \"0:02:52\", \"iteration\": \"40\", \"goal\": \"accuracy_max\", \"run_name\": \"StandardScalerWrapper, LightGBM\", \"run_properties\": \"<azureml.automl.runtime.shared.model_wrappers.StandardScalerWrapper object at 0x7f46b866f198\", \"primary_metric\": 0.81180328, \"best_metric\": 0.83480874}, {\"run_id\": \"AutoML_eaf562aa-79f3-44b6-9592-aa6dec49470e_41\", \"run_number\": 46, \"metric\": null, \"status\": \"Canceled\", \"run_type\": \"azureml.scriptrun\", \"training_percent\": \"100\", \"start_time\": \"2021-04-19T22:24:15.364742Z\", \"end_time\": \"2021-04-19T22:24:30.045562Z\", \"created_time\": \"2021-04-19T22:21:59.171773Z\", \"created_time_dt\": \"2021-04-19T22:21:59.171773Z\", \"duration\": \"0:02:30\", \"iteration\": \"41\", \"goal\": null, \"run_name\": \"Canceled\", \"run_properties\": null}, {\"run_id\": \"AutoML_eaf562aa-79f3-44b6-9592-aa6dec49470e_42\", \"run_number\": 47, \"metric\": null, \"status\": \"Canceled\", \"run_type\": \"azureml.scriptrun\", \"training_percent\": \"100\", \"start_time\": \"2021-04-19T22:22:08.931163Z\", \"end_time\": \"2021-04-19T22:24:29.950377Z\", \"created_time\": \"2021-04-19T22:22:08.931163Z\", \"created_time_dt\": \"2021-04-19T22:22:08.931163Z\", \"duration\": \"0:02:21\", \"iteration\": \"42\", \"goal\": null, \"run_name\": \"Canceled\", \"run_properties\": null}, {\"run_id\": \"AutoML_eaf562aa-79f3-44b6-9592-aa6dec49470e_43\", \"run_number\": 48, \"metric\": null, \"status\": \"Canceled\", \"run_type\": \"azureml.scriptrun\", \"training_percent\": \"100\", \"start_time\": \"2021-04-19T22:22:40.675069Z\", \"end_time\": \"2021-04-19T22:24:29.820258Z\", \"created_time\": \"2021-04-19T22:22:40.675069Z\", \"created_time_dt\": \"2021-04-19T22:22:40.675069Z\", \"duration\": \"0:01:49\", \"iteration\": \"43\", \"goal\": null, \"run_name\": \"Canceled\", \"run_properties\": null}, {\"run_id\": \"AutoML_eaf562aa-79f3-44b6-9592-aa6dec49470e_44\", \"run_number\": 49, \"metric\": null, \"status\": \"Canceled\", \"run_type\": \"azureml.scriptrun\", \"training_percent\": \"100\", \"start_time\": \"2021-04-19T22:22:55.168874Z\", \"end_time\": \"2021-04-19T22:24:29.809654Z\", \"created_time\": \"2021-04-19T22:22:55.168874Z\", \"created_time_dt\": \"2021-04-19T22:22:55.168874Z\", \"duration\": \"0:01:34\", \"iteration\": \"44\", \"goal\": null, \"run_name\": \"Canceled\", \"run_properties\": null}, {\"run_id\": \"AutoML_eaf562aa-79f3-44b6-9592-aa6dec49470e_45\", \"run_number\": 50, \"metric\": null, \"status\": \"Canceled\", \"run_type\": \"azureml.scriptrun\", \"training_percent\": \"100\", \"start_time\": \"2021-04-19T22:23:12.560528Z\", \"end_time\": \"2021-04-19T22:24:30.380482Z\", \"created_time\": \"2021-04-19T22:23:12.560528Z\", \"created_time_dt\": \"2021-04-19T22:23:12.560528Z\", \"duration\": \"0:01:17\", \"iteration\": \"45\", \"goal\": null, \"run_name\": \"Canceled\", \"run_properties\": null}, {\"run_id\": \"AutoML_eaf562aa-79f3-44b6-9592-aa6dec49470e_46\", \"run_number\": 51, \"metric\": null, \"status\": \"Canceled\", \"run_type\": \"azureml.scriptrun\", \"training_percent\": \"100\", \"start_time\": \"2021-04-19T22:23:24.612288Z\", \"end_time\": \"2021-04-19T22:24:30.295121Z\", \"created_time\": \"2021-04-19T22:23:24.612288Z\", \"created_time_dt\": \"2021-04-19T22:23:24.612288Z\", \"duration\": \"0:01:05\", \"iteration\": \"46\", \"goal\": null, \"run_name\": \"Canceled\", \"run_properties\": null}, {\"run_id\": \"AutoML_eaf562aa-79f3-44b6-9592-aa6dec49470e_47\", \"run_number\": 52, \"metric\": null, \"status\": \"Canceled\", \"run_type\": \"azureml.scriptrun\", \"training_percent\": \"100\", \"start_time\": \"2021-04-19T22:24:02.556369Z\", \"end_time\": \"2021-04-19T22:24:29.865716Z\", \"created_time\": \"2021-04-19T22:24:02.556369Z\", \"created_time_dt\": \"2021-04-19T22:24:02.556369Z\", \"duration\": \"0:00:27\", \"iteration\": \"47\", \"goal\": null, \"run_name\": \"Canceled\", \"run_properties\": null}, {\"run_id\": \"AutoML_eaf562aa-79f3-44b6-9592-aa6dec49470e_48\", \"run_number\": 53, \"metric\": null, \"status\": \"Canceled\", \"run_type\": \"azureml.scriptrun\", \"training_percent\": \"100\", \"start_time\": \"2021-04-19T22:24:14.058294Z\", \"end_time\": \"2021-04-19T22:24:30.136288Z\", \"created_time\": \"2021-04-19T22:24:14.058294Z\", \"created_time_dt\": \"2021-04-19T22:24:14.058294Z\", \"duration\": \"0:00:16\", \"iteration\": \"48\", \"goal\": null, \"run_name\": \"Canceled\", \"run_properties\": null}, {\"run_id\": \"AutoML_eaf562aa-79f3-44b6-9592-aa6dec49470e_49\", \"run_number\": 54, \"metric\": null, \"status\": \"Completed\", \"run_type\": \"azureml.scriptrun\", \"training_percent\": \"100\", \"start_time\": \"2021-04-19T22:24:42.608768Z\", \"end_time\": \"2021-04-19T22:25:47.690035Z\", \"created_time\": \"2021-04-19T22:24:32.698167Z\", \"created_time_dt\": \"2021-04-19T22:24:32.698167Z\", \"duration\": \"0:01:14\", \"iteration\": \"49\", \"goal\": \"accuracy_max\", \"run_name\": \"VotingEnsemble\", \"run_properties\": \"classification_labels=None,\\n                              estimators=[('19',\\n                                           Pipeline(memory=None,\\n                                                    steps=[('maxabsscaler',\\n                                                            MaxAbsScaler(copy=True\", \"primary_metric\": 0.84480874, \"best_metric\": 0.84480874}, {\"run_id\": \"AutoML_eaf562aa-79f3-44b6-9592-aa6dec49470e_50\", \"run_number\": 55, \"metric\": null, \"status\": \"Completed\", \"run_type\": \"azureml.scriptrun\", \"training_percent\": \"100\", \"start_time\": \"2021-04-19T22:24:40.848725Z\", \"end_time\": \"2021-04-19T22:25:52.328157Z\", \"created_time\": \"2021-04-19T22:24:32.843723Z\", \"created_time_dt\": \"2021-04-19T22:24:32.843723Z\", \"duration\": \"0:01:19\", \"iteration\": \"50\", \"goal\": \"accuracy_max\", \"run_name\": \"StackEnsemble\", \"run_properties\": \"base_learners=[('19',\\n                                        Pipeline(memory=None,\\n                                                 steps=[('maxabsscaler',\\n                                                         MaxAbsScaler(copy=True\", \"primary_metric\": 0.8184153, \"best_metric\": 0.84480874}], \"children_metrics\": {\"categories\": [0], \"series\": {\"accuracy\": [{\"categories\": [\"0\", \"1\", \"2\", \"3\", \"4\", \"5\", \"6\", \"7\", \"8\", \"9\", \"10\", \"11\", \"12\", \"13\", \"14\", \"15\", \"16\", \"17\", \"18\", \"19\", \"20\", \"21\", \"22\", \"23\", \"24\", \"25\", \"26\", \"27\", \"28\", \"29\", \"30\", \"31\", \"32\", \"33\", \"34\", \"35\", \"36\", \"37\", \"38\", \"39\", \"40\", \"49\", \"50\"], \"mode\": \"markers\", \"name\": \"accuracy\", \"stepped\": false, \"type\": \"scatter\", \"data\": [0.7918579234972677, 0.7985245901639344, 0.8052459016393442, 0.8148087431693989, 0.8150273224043716, 0.8049726775956284, 0.8216939890710382, 0.8183060109289617, 0.7888524590163934, 0.7985245901639344, 0.8347540983606556, 0.7921857923497267, 0.8116939890710382, 0.8316393442622949, 0.8018579234972677, 0.821639344262295, 0.8052459016393442, 0.8118032786885246, 0.821639344262295, 0.8348087431693989, 0.8283060109289616, 0.8318032786885245, 0.7457377049180328, 0.8284699453551913, 0.7920218579234973, 0.5445355191256831, 0.8216939890710382, 0.8284699453551913, 0.8250819672131147, 0.8250273224043715, 0.7096174863387978, 0.8083606557377049, 0.821584699453552, 0.8151366120218579, 0.8316939890710383, 0.7919125683060109, 0.8053005464480874, 0.8316393442622951, 0.8055191256830602, 0.788743169398907, 0.8118032786885246, 0.844808743169399, 0.8184153005464481]}, {\"categories\": [\"0\", \"1\", \"2\", \"3\", \"4\", \"5\", \"6\", \"7\", \"8\", \"9\", \"10\", \"11\", \"12\", \"13\", \"14\", \"15\", \"16\", \"17\", \"18\", \"19\", \"20\", \"21\", \"22\", \"23\", \"24\", \"25\", \"26\", \"27\", \"28\", \"29\", \"30\", \"31\", \"32\", \"33\", \"34\", \"35\", \"36\", \"37\", \"38\", \"39\", \"40\", \"49\", \"50\"], \"mode\": \"lines\", \"name\": \"accuracy_max\", \"stepped\": true, \"type\": \"scatter\", \"data\": [0.7918579234972677, 0.7985245901639344, 0.8052459016393442, 0.8148087431693989, 0.8150273224043716, 0.8150273224043716, 0.8216939890710382, 0.8216939890710382, 0.8216939890710382, 0.8216939890710382, 0.8347540983606556, 0.8347540983606556, 0.8347540983606556, 0.8347540983606556, 0.8347540983606556, 0.8347540983606556, 0.8347540983606556, 0.8347540983606556, 0.8347540983606556, 0.8348087431693989, 0.8348087431693989, 0.8348087431693989, 0.8348087431693989, 0.8348087431693989, 0.8348087431693989, 0.8348087431693989, 0.8348087431693989, 0.8348087431693989, 0.8348087431693989, 0.8348087431693989, 0.8348087431693989, 0.8348087431693989, 0.8348087431693989, 0.8348087431693989, 0.8348087431693989, 0.8348087431693989, 0.8348087431693989, 0.8348087431693989, 0.8348087431693989, 0.8348087431693989, 0.8348087431693989, 0.844808743169399, 0.844808743169399]}], \"precision_score_weighted\": [{\"categories\": [\"0\", \"1\", \"2\", \"3\", \"4\", \"5\", \"6\", \"7\", \"8\", \"9\", \"10\", \"11\", \"12\", \"13\", \"14\", \"15\", \"16\", \"17\", \"18\", \"19\", \"20\", \"21\", \"22\", \"23\", \"24\", \"25\", \"26\", \"27\", \"28\", \"29\", \"30\", \"31\", \"32\", \"33\", \"34\", \"35\", \"36\", \"37\", \"38\", \"39\", \"40\", \"49\", \"50\"], \"mode\": \"markers\", \"name\": \"precision_score_weighted\", \"stepped\": false, \"type\": \"scatter\", \"data\": [0.7938841181319484, 0.8029753752344378, 0.8086703604310198, 0.8214328004755347, 0.8181661120299257, 0.8108660072914372, 0.8246752284414294, 0.8217541163328731, 0.7885334803299953, 0.8016048405660383, 0.8385223059047376, 0.800022868282386, 0.8180292738819823, 0.8390966713802438, 0.804582369577816, 0.8261687704006702, 0.8058112168392222, 0.8140089089949489, 0.8224438494768831, 0.8389243230649738, 0.8312000755531816, 0.8372799321220761, 0.747861292758882, 0.8329844694776432, 0.7923480899498879, 0.29908216130669774, 0.8245176001159953, 0.831007059174851, 0.8283725036108557, 0.827205352607639, 0.7941585541087729, 0.8121844007171368, 0.8247560211694163, 0.8189600296320663, 0.8399446252357501, 0.8153466128554164, 0.8091308823687061, 0.8334095288513522, 0.8091462993345246, 0.7911945795552352, 0.8206502421178252, 0.8488301298101837, 0.8214343316320768]}, {\"categories\": [\"0\", \"1\", \"2\", \"3\", \"4\", \"5\", \"6\", \"7\", \"8\", \"9\", \"10\", \"11\", \"12\", \"13\", \"14\", \"15\", \"16\", \"17\", \"18\", \"19\", \"20\", \"21\", \"22\", \"23\", \"24\", \"25\", \"26\", \"27\", \"28\", \"29\", \"30\", \"31\", \"32\", \"33\", \"34\", \"35\", \"36\", \"37\", \"38\", \"39\", \"40\", \"49\", \"50\"], \"mode\": \"lines\", \"name\": \"precision_score_weighted_max\", \"stepped\": true, \"type\": \"scatter\", \"data\": [0.7938841181319484, 0.8029753752344378, 0.8086703604310198, 0.8214328004755347, 0.8214328004755347, 0.8214328004755347, 0.8246752284414294, 0.8246752284414294, 0.8246752284414294, 0.8246752284414294, 0.8385223059047376, 0.8385223059047376, 0.8385223059047376, 0.8390966713802438, 0.8390966713802438, 0.8390966713802438, 0.8390966713802438, 0.8390966713802438, 0.8390966713802438, 0.8390966713802438, 0.8390966713802438, 0.8390966713802438, 0.8390966713802438, 0.8390966713802438, 0.8390966713802438, 0.8390966713802438, 0.8390966713802438, 0.8390966713802438, 0.8390966713802438, 0.8390966713802438, 0.8390966713802438, 0.8390966713802438, 0.8390966713802438, 0.8390966713802438, 0.8399446252357501, 0.8399446252357501, 0.8399446252357501, 0.8399446252357501, 0.8399446252357501, 0.8399446252357501, 0.8399446252357501, 0.8488301298101837, 0.8488301298101837]}], \"average_precision_score_weighted\": [{\"categories\": [\"0\", \"1\", \"2\", \"3\", \"4\", \"5\", \"6\", \"7\", \"8\", \"9\", \"10\", \"11\", \"12\", \"13\", \"14\", \"15\", \"16\", \"17\", \"18\", \"19\", \"20\", \"21\", \"22\", \"23\", \"24\", \"25\", \"26\", \"27\", \"28\", \"29\", \"30\", \"31\", \"32\", \"33\", \"34\", \"35\", \"36\", \"37\", \"38\", \"39\", \"40\", \"49\", \"50\"], \"mode\": \"markers\", \"name\": \"average_precision_score_weighted\", \"stepped\": false, \"type\": \"scatter\", \"data\": [0.8702581274333561, 0.8940130401907899, 0.8959056606398198, 0.9024786942036176, 0.9152795045339233, 0.8850737238232556, 0.8845706019622079, 0.9015716646506915, 0.8703528662553323, 0.8940098063744205, 0.9080992635618603, 0.8781540238583091, 0.9004024803479238, 0.9033812100096625, 0.8870364137316556, 0.9169184113545349, 0.9100643673860926, 0.9034670212622371, 0.898235631057623, 0.9041689451009622, 0.9205755033746371, 0.912428284455493, 0.8313172501860245, 0.9161511968325078, 0.8699433108534448, 0.5090932843620293, 0.9119720245337929, 0.8985181285619788, 0.9075158578372997, 0.9123151197098022, 0.8645937351377485, 0.9025935533499817, 0.9050930870019812, 0.9019583907125893, 0.9185432713699777, 0.8922545708422313, 0.8920444734724553, 0.9061347997862335, 0.8586348713336562, 0.8830909490298549, 0.8922619366418388, 0.9121978359280465, 0.9076134259016821]}, {\"categories\": [\"0\", \"1\", \"2\", \"3\", \"4\", \"5\", \"6\", \"7\", \"8\", \"9\", \"10\", \"11\", \"12\", \"13\", \"14\", \"15\", \"16\", \"17\", \"18\", \"19\", \"20\", \"21\", \"22\", \"23\", \"24\", \"25\", \"26\", \"27\", \"28\", \"29\", \"30\", \"31\", \"32\", \"33\", \"34\", \"35\", \"36\", \"37\", \"38\", \"39\", \"40\", \"49\", \"50\"], \"mode\": \"lines\", \"name\": \"average_precision_score_weighted_max\", \"stepped\": true, \"type\": \"scatter\", \"data\": [0.8702581274333561, 0.8940130401907899, 0.8959056606398198, 0.9024786942036176, 0.9152795045339233, 0.9152795045339233, 0.9152795045339233, 0.9152795045339233, 0.9152795045339233, 0.9152795045339233, 0.9152795045339233, 0.9152795045339233, 0.9152795045339233, 0.9152795045339233, 0.9152795045339233, 0.9169184113545349, 0.9169184113545349, 0.9169184113545349, 0.9169184113545349, 0.9169184113545349, 0.9205755033746371, 0.9205755033746371, 0.9205755033746371, 0.9205755033746371, 0.9205755033746371, 0.9205755033746371, 0.9205755033746371, 0.9205755033746371, 0.9205755033746371, 0.9205755033746371, 0.9205755033746371, 0.9205755033746371, 0.9205755033746371, 0.9205755033746371, 0.9205755033746371, 0.9205755033746371, 0.9205755033746371, 0.9205755033746371, 0.9205755033746371, 0.9205755033746371, 0.9205755033746371, 0.9205755033746371, 0.9205755033746371]}], \"AUC_weighted\": [{\"categories\": [\"0\", \"1\", \"2\", \"3\", \"4\", \"5\", \"6\", \"7\", \"8\", \"9\", \"10\", \"11\", \"12\", \"13\", \"14\", \"15\", \"16\", \"17\", \"18\", \"19\", \"20\", \"21\", \"22\", \"23\", \"24\", \"25\", \"26\", \"27\", \"28\", \"29\", \"30\", \"31\", \"32\", \"33\", \"34\", \"35\", \"36\", \"37\", \"38\", \"39\", \"40\", \"49\", \"50\"], \"mode\": \"markers\", \"name\": \"AUC_weighted\", \"stepped\": false, \"type\": \"scatter\", \"data\": [0.8656393683100239, 0.8862001396201405, 0.8894134557104987, 0.896651704299843, 0.9078965726248365, 0.8808247052942928, 0.8804716245442645, 0.8987226680499187, 0.8645956551314449, 0.8841225587101349, 0.9058835090216231, 0.8675602192274384, 0.8938348827243747, 0.9015951542783058, 0.8809984677783996, 0.9124967978255194, 0.9022066328081817, 0.8977145623788477, 0.8916388884343502, 0.8976567936926516, 0.9155978771730636, 0.9083415491138739, 0.8321844186838184, 0.9114849958479407, 0.8682250073867586, 0.5, 0.9045631218346684, 0.8956006104131214, 0.9042091876751414, 0.905474114185934, 0.865217505627896, 0.8944147441559356, 0.8970530776712865, 0.8990181244126099, 0.9138711113115121, 0.8879931002806464, 0.8832589953487158, 0.9011549309719383, 0.8639489788465375, 0.8773410788703797, 0.8892095670755454, 0.9074540984136437, 0.9027210021373824]}, {\"categories\": [\"0\", \"1\", \"2\", \"3\", \"4\", \"5\", \"6\", \"7\", \"8\", \"9\", \"10\", \"11\", \"12\", \"13\", \"14\", \"15\", \"16\", \"17\", \"18\", \"19\", \"20\", \"21\", \"22\", \"23\", \"24\", \"25\", \"26\", \"27\", \"28\", \"29\", \"30\", \"31\", \"32\", \"33\", \"34\", \"35\", \"36\", \"37\", \"38\", \"39\", \"40\", \"49\", \"50\"], \"mode\": \"lines\", \"name\": \"AUC_weighted_max\", \"stepped\": true, \"type\": \"scatter\", \"data\": [0.8656393683100239, 0.8862001396201405, 0.8894134557104987, 0.896651704299843, 0.9078965726248365, 0.9078965726248365, 0.9078965726248365, 0.9078965726248365, 0.9078965726248365, 0.9078965726248365, 0.9078965726248365, 0.9078965726248365, 0.9078965726248365, 0.9078965726248365, 0.9078965726248365, 0.9124967978255194, 0.9124967978255194, 0.9124967978255194, 0.9124967978255194, 0.9124967978255194, 0.9155978771730636, 0.9155978771730636, 0.9155978771730636, 0.9155978771730636, 0.9155978771730636, 0.9155978771730636, 0.9155978771730636, 0.9155978771730636, 0.9155978771730636, 0.9155978771730636, 0.9155978771730636, 0.9155978771730636, 0.9155978771730636, 0.9155978771730636, 0.9155978771730636, 0.9155978771730636, 0.9155978771730636, 0.9155978771730636, 0.9155978771730636, 0.9155978771730636, 0.9155978771730636, 0.9155978771730636, 0.9155978771730636]}], \"norm_macro_recall\": [{\"categories\": [\"0\", \"1\", \"2\", \"3\", \"4\", \"5\", \"6\", \"7\", \"8\", \"9\", \"10\", \"11\", \"12\", \"13\", \"14\", \"15\", \"16\", \"17\", \"18\", \"19\", \"20\", \"21\", \"22\", \"23\", \"24\", \"25\", \"26\", \"27\", \"28\", \"29\", \"30\", \"31\", \"32\", \"33\", \"34\", \"35\", \"36\", \"37\", \"38\", \"39\", \"40\", \"49\", \"50\"], \"mode\": \"markers\", \"name\": \"norm_macro_recall\", \"stepped\": false, \"type\": \"scatter\", \"data\": [0.5726632072030926, 0.5882254822443252, 0.6019756742414628, 0.6262298306340403, 0.6186968741556944, 0.6012357432428583, 0.6293129952426164, 0.6298994833773993, 0.5636431619261919, 0.5903246431901683, 0.659059192996274, 0.5810739298371673, 0.6148516360604562, 0.6513551933407539, 0.5978786913540561, 0.6336693700506041, 0.6014473853904966, 0.6150512657811283, 0.6307313353085766, 0.6602328167107326, 0.6443347835844386, 0.6434187643626647, 0.48288523471104605, 0.6424151903856463, 0.5757469608028873, 0.0, 0.6346145371408402, 0.6460627384282634, 0.6380847835844387, 0.638328109502125, 0.37369679845985326, 0.6049466821585568, 0.6348099610454293, 0.6187790453245363, 0.6477272751569886, 0.5584231259643039, 0.6039898284546787, 0.6524947214726374, 0.5941740480111629, 0.5556623352463956, 0.6071463285759496, 0.676924546034041, 0.6279478704741736]}, {\"categories\": [\"0\", \"1\", \"2\", \"3\", \"4\", \"5\", \"6\", \"7\", \"8\", \"9\", \"10\", \"11\", \"12\", \"13\", \"14\", \"15\", \"16\", \"17\", \"18\", \"19\", \"20\", \"21\", \"22\", \"23\", \"24\", \"25\", \"26\", \"27\", \"28\", \"29\", \"30\", \"31\", \"32\", \"33\", \"34\", \"35\", \"36\", \"37\", \"38\", \"39\", \"40\", \"49\", \"50\"], \"mode\": \"lines\", \"name\": \"norm_macro_recall_max\", \"stepped\": true, \"type\": \"scatter\", \"data\": [0.5726632072030926, 0.5882254822443252, 0.6019756742414628, 0.6262298306340403, 0.6262298306340403, 0.6262298306340403, 0.6293129952426164, 0.6298994833773993, 0.6298994833773993, 0.6298994833773993, 0.659059192996274, 0.659059192996274, 0.659059192996274, 0.659059192996274, 0.659059192996274, 0.659059192996274, 0.659059192996274, 0.659059192996274, 0.659059192996274, 0.6602328167107326, 0.6602328167107326, 0.6602328167107326, 0.6602328167107326, 0.6602328167107326, 0.6602328167107326, 0.6602328167107326, 0.6602328167107326, 0.6602328167107326, 0.6602328167107326, 0.6602328167107326, 0.6602328167107326, 0.6602328167107326, 0.6602328167107326, 0.6602328167107326, 0.6602328167107326, 0.6602328167107326, 0.6602328167107326, 0.6602328167107326, 0.6602328167107326, 0.6602328167107326, 0.6602328167107326, 0.676924546034041, 0.676924546034041]}], \"average_precision_score_micro\": [{\"categories\": [\"0\", \"1\", \"2\", \"3\", \"4\", \"5\", \"6\", \"7\", \"8\", \"9\", \"10\", \"11\", \"12\", \"13\", \"14\", \"15\", \"16\", \"17\", \"18\", \"19\", \"20\", \"21\", \"22\", \"23\", \"24\", \"25\", \"26\", \"27\", \"28\", \"29\", \"30\", \"31\", \"32\", \"33\", \"34\", \"35\", \"36\", \"37\", \"38\", \"39\", \"40\", \"49\", \"50\"], \"mode\": \"markers\", \"name\": \"average_precision_score_micro\", \"stepped\": false, \"type\": \"scatter\", \"data\": [0.8718940648671548, 0.892224614148503, 0.8905475768456845, 0.8984336727624564, 0.9100448618962075, 0.8748849447585947, 0.8774008444091861, 0.8950604223104323, 0.8642665424645729, 0.888423191071707, 0.9056564639339525, 0.8701478891527437, 0.8929994272477788, 0.8992110669893163, 0.8768740041684859, 0.9125426222497094, 0.9036267188405237, 0.8986858915787697, 0.8915969404052358, 0.902012849394661, 0.91635248259253, 0.9074575157552282, 0.8193877171478967, 0.9114711029707756, 0.8629697466006027, 0.5268144017438562, 0.9079300844492575, 0.8928837972368241, 0.9041153190515857, 0.90847849897693, 0.7758564496757124, 0.898179418686318, 0.9012803597784853, 0.8983127425339947, 0.9132476133517906, 0.8656911431465746, 0.8829743091905875, 0.9044132189125944, 0.859531612697087, 0.8717632623989788, 0.887375796842024, 0.9091860276279979, 0.901750391131144]}, {\"categories\": [\"0\", \"1\", \"2\", \"3\", \"4\", \"5\", \"6\", \"7\", \"8\", \"9\", \"10\", \"11\", \"12\", \"13\", \"14\", \"15\", \"16\", \"17\", \"18\", \"19\", \"20\", \"21\", \"22\", \"23\", \"24\", \"25\", \"26\", \"27\", \"28\", \"29\", \"30\", \"31\", \"32\", \"33\", \"34\", \"35\", \"36\", \"37\", \"38\", \"39\", \"40\", \"49\", \"50\"], \"mode\": \"lines\", \"name\": \"average_precision_score_micro_max\", \"stepped\": true, \"type\": \"scatter\", \"data\": [0.8718940648671548, 0.892224614148503, 0.892224614148503, 0.8984336727624564, 0.9100448618962075, 0.9100448618962075, 0.9100448618962075, 0.9100448618962075, 0.9100448618962075, 0.9100448618962075, 0.9100448618962075, 0.9100448618962075, 0.9100448618962075, 0.9100448618962075, 0.9100448618962075, 0.9125426222497094, 0.9125426222497094, 0.9125426222497094, 0.9125426222497094, 0.9125426222497094, 0.91635248259253, 0.91635248259253, 0.91635248259253, 0.91635248259253, 0.91635248259253, 0.91635248259253, 0.91635248259253, 0.91635248259253, 0.91635248259253, 0.91635248259253, 0.91635248259253, 0.91635248259253, 0.91635248259253, 0.91635248259253, 0.91635248259253, 0.91635248259253, 0.91635248259253, 0.91635248259253, 0.91635248259253, 0.91635248259253, 0.91635248259253, 0.91635248259253, 0.91635248259253]}], \"recall_score_macro\": [{\"categories\": [\"0\", \"1\", \"2\", \"3\", \"4\", \"5\", \"6\", \"7\", \"8\", \"9\", \"10\", \"11\", \"12\", \"13\", \"14\", \"15\", \"16\", \"17\", \"18\", \"19\", \"20\", \"21\", \"22\", \"23\", \"24\", \"25\", \"26\", \"27\", \"28\", \"29\", \"30\", \"31\", \"32\", \"33\", \"34\", \"35\", \"36\", \"37\", \"38\", \"39\", \"40\", \"49\", \"50\"], \"mode\": \"markers\", \"name\": \"recall_score_macro\", \"stepped\": false, \"type\": \"scatter\", \"data\": [0.7863316036015464, 0.7941127411221627, 0.8009878371207314, 0.8131149153170203, 0.8093484370778473, 0.8006178716214292, 0.8146564976213082, 0.8149497416886996, 0.781821580963096, 0.795162321595084, 0.8295295964981371, 0.7905369649185836, 0.8074258180302282, 0.8256775966703769, 0.7989393456770281, 0.8168346850253021, 0.8007236926952483, 0.8075256328905642, 0.8153656676542882, 0.8301164083553664, 0.8221673917922192, 0.8217093821813325, 0.7414426173555231, 0.821207595192823, 0.7878734804014437, 0.5, 0.81730726857042, 0.8230313692141318, 0.8190423917922193, 0.8191640547510625, 0.6868483992299267, 0.8024733410792784, 0.8174049805227147, 0.8093895226622682, 0.8238636375784942, 0.7792115629821519, 0.8019949142273394, 0.8262473607363188, 0.7970870240055815, 0.7778311676231979, 0.8035731642879748, 0.8384622730170204, 0.8139739352370867]}, {\"categories\": [\"0\", \"1\", \"2\", \"3\", \"4\", \"5\", \"6\", \"7\", \"8\", \"9\", \"10\", \"11\", \"12\", \"13\", \"14\", \"15\", \"16\", \"17\", \"18\", \"19\", \"20\", \"21\", \"22\", \"23\", \"24\", \"25\", \"26\", \"27\", \"28\", \"29\", \"30\", \"31\", \"32\", \"33\", \"34\", \"35\", \"36\", \"37\", \"38\", \"39\", \"40\", \"49\", \"50\"], \"mode\": \"lines\", \"name\": \"recall_score_macro_max\", \"stepped\": true, \"type\": \"scatter\", \"data\": [0.7863316036015464, 0.7941127411221627, 0.8009878371207314, 0.8131149153170203, 0.8131149153170203, 0.8131149153170203, 0.8146564976213082, 0.8149497416886996, 0.8149497416886996, 0.8149497416886996, 0.8295295964981371, 0.8295295964981371, 0.8295295964981371, 0.8295295964981371, 0.8295295964981371, 0.8295295964981371, 0.8295295964981371, 0.8295295964981371, 0.8295295964981371, 0.8301164083553664, 0.8301164083553664, 0.8301164083553664, 0.8301164083553664, 0.8301164083553664, 0.8301164083553664, 0.8301164083553664, 0.8301164083553664, 0.8301164083553664, 0.8301164083553664, 0.8301164083553664, 0.8301164083553664, 0.8301164083553664, 0.8301164083553664, 0.8301164083553664, 0.8301164083553664, 0.8301164083553664, 0.8301164083553664, 0.8301164083553664, 0.8301164083553664, 0.8301164083553664, 0.8301164083553664, 0.8384622730170204, 0.8384622730170204]}], \"f1_score_macro\": [{\"categories\": [\"0\", \"1\", \"2\", \"3\", \"4\", \"5\", \"6\", \"7\", \"8\", \"9\", \"10\", \"11\", \"12\", \"13\", \"14\", \"15\", \"16\", \"17\", \"18\", \"19\", \"20\", \"21\", \"22\", \"23\", \"24\", \"25\", \"26\", \"27\", \"28\", \"29\", \"30\", \"31\", \"32\", \"33\", \"34\", \"35\", \"36\", \"37\", \"38\", \"39\", \"40\", \"49\", \"50\"], \"mode\": \"markers\", \"name\": \"f1_score_macro\", \"stepped\": false, \"type\": \"scatter\", \"data\": [0.7867944664973036, 0.7935640878174892, 0.7999639946097403, 0.8125203701113083, 0.8100117475902264, 0.8004054544168362, 0.8160964772200329, 0.8142120401964761, 0.7829438777030774, 0.7944009676786139, 0.8303693177589009, 0.7878054828027036, 0.8068496583686999, 0.8263497215006461, 0.7982722647762552, 0.8167815119819124, 0.8009714650915226, 0.8075517548935573, 0.8164632552181436, 0.8303318223127449, 0.82297987660559, 0.8237915063288532, 0.740626761932127, 0.8225048753971548, 0.7877775024781896, 0.3518698241958004, 0.8173740885182473, 0.8236775325097451, 0.8197202631644098, 0.8199052098160626, 0.6669598215205712, 0.803778383775026, 0.8175517369951244, 0.8100851754575908, 0.8251116082997786, 0.7798642520768508, 0.8007718946864186, 0.8270883254641515, 0.797945521107017, 0.779350220465209, 0.8049142620868235, 0.8399539679650058, 0.8140476607817524]}, {\"categories\": [\"0\", \"1\", \"2\", \"3\", \"4\", \"5\", \"6\", \"7\", \"8\", \"9\", \"10\", \"11\", \"12\", \"13\", \"14\", \"15\", \"16\", \"17\", \"18\", \"19\", \"20\", \"21\", \"22\", \"23\", \"24\", \"25\", \"26\", \"27\", \"28\", \"29\", \"30\", \"31\", \"32\", \"33\", \"34\", \"35\", \"36\", \"37\", \"38\", \"39\", \"40\", \"49\", \"50\"], \"mode\": \"lines\", \"name\": \"f1_score_macro_max\", \"stepped\": true, \"type\": \"scatter\", \"data\": [0.7867944664973036, 0.7935640878174892, 0.7999639946097403, 0.8125203701113083, 0.8125203701113083, 0.8125203701113083, 0.8160964772200329, 0.8160964772200329, 0.8160964772200329, 0.8160964772200329, 0.8303693177589009, 0.8303693177589009, 0.8303693177589009, 0.8303693177589009, 0.8303693177589009, 0.8303693177589009, 0.8303693177589009, 0.8303693177589009, 0.8303693177589009, 0.8303693177589009, 0.8303693177589009, 0.8303693177589009, 0.8303693177589009, 0.8303693177589009, 0.8303693177589009, 0.8303693177589009, 0.8303693177589009, 0.8303693177589009, 0.8303693177589009, 0.8303693177589009, 0.8303693177589009, 0.8303693177589009, 0.8303693177589009, 0.8303693177589009, 0.8303693177589009, 0.8303693177589009, 0.8303693177589009, 0.8303693177589009, 0.8303693177589009, 0.8303693177589009, 0.8303693177589009, 0.8399539679650058, 0.8399539679650058]}], \"recall_score_weighted\": [{\"categories\": [\"0\", \"1\", \"2\", \"3\", \"4\", \"5\", \"6\", \"7\", \"8\", \"9\", \"10\", \"11\", \"12\", \"13\", \"14\", \"15\", \"16\", \"17\", \"18\", \"19\", \"20\", \"21\", \"22\", \"23\", \"24\", \"25\", \"26\", \"27\", \"28\", \"29\", \"30\", \"31\", \"32\", \"33\", \"34\", \"35\", \"36\", \"37\", \"38\", \"39\", \"40\", \"49\", \"50\"], \"mode\": \"markers\", \"name\": \"recall_score_weighted\", \"stepped\": false, \"type\": \"scatter\", \"data\": [0.7918579234972677, 0.7985245901639344, 0.8052459016393442, 0.8148087431693989, 0.8150273224043716, 0.8049726775956284, 0.8216939890710382, 0.8183060109289617, 0.7888524590163934, 0.7985245901639344, 0.8347540983606556, 0.7921857923497267, 0.8116939890710382, 0.8316393442622949, 0.8018579234972677, 0.821639344262295, 0.8052459016393442, 0.8118032786885246, 0.821639344262295, 0.8348087431693989, 0.8283060109289616, 0.8318032786885245, 0.7457377049180328, 0.8284699453551913, 0.7920218579234973, 0.5445355191256831, 0.8216939890710382, 0.8284699453551913, 0.8250819672131147, 0.8250273224043715, 0.7096174863387978, 0.8083606557377049, 0.821584699453552, 0.8151366120218579, 0.8316939890710383, 0.7919125683060109, 0.8053005464480874, 0.8316393442622951, 0.8055191256830602, 0.788743169398907, 0.8118032786885246, 0.844808743169399, 0.8184153005464481]}, {\"categories\": [\"0\", \"1\", \"2\", \"3\", \"4\", \"5\", \"6\", \"7\", \"8\", \"9\", \"10\", \"11\", \"12\", \"13\", \"14\", \"15\", \"16\", \"17\", \"18\", \"19\", \"20\", \"21\", \"22\", \"23\", \"24\", \"25\", \"26\", \"27\", \"28\", \"29\", \"30\", \"31\", \"32\", \"33\", \"34\", \"35\", \"36\", \"37\", \"38\", \"39\", \"40\", \"49\", \"50\"], \"mode\": \"lines\", \"name\": \"recall_score_weighted_max\", \"stepped\": true, \"type\": \"scatter\", \"data\": [0.7918579234972677, 0.7985245901639344, 0.8052459016393442, 0.8148087431693989, 0.8150273224043716, 0.8150273224043716, 0.8216939890710382, 0.8216939890710382, 0.8216939890710382, 0.8216939890710382, 0.8347540983606556, 0.8347540983606556, 0.8347540983606556, 0.8347540983606556, 0.8347540983606556, 0.8347540983606556, 0.8347540983606556, 0.8347540983606556, 0.8347540983606556, 0.8348087431693989, 0.8348087431693989, 0.8348087431693989, 0.8348087431693989, 0.8348087431693989, 0.8348087431693989, 0.8348087431693989, 0.8348087431693989, 0.8348087431693989, 0.8348087431693989, 0.8348087431693989, 0.8348087431693989, 0.8348087431693989, 0.8348087431693989, 0.8348087431693989, 0.8348087431693989, 0.8348087431693989, 0.8348087431693989, 0.8348087431693989, 0.8348087431693989, 0.8348087431693989, 0.8348087431693989, 0.844808743169399, 0.844808743169399]}], \"precision_score_micro\": [{\"categories\": [\"0\", \"1\", \"2\", \"3\", \"4\", \"5\", \"6\", \"7\", \"8\", \"9\", \"10\", \"11\", \"12\", \"13\", \"14\", \"15\", \"16\", \"17\", \"18\", \"19\", \"20\", \"21\", \"22\", \"23\", \"24\", \"25\", \"26\", \"27\", \"28\", \"29\", \"30\", \"31\", \"32\", \"33\", \"34\", \"35\", \"36\", \"37\", \"38\", \"39\", \"40\", \"49\", \"50\"], \"mode\": \"markers\", \"name\": \"precision_score_micro\", \"stepped\": false, \"type\": \"scatter\", \"data\": [0.7918579234972677, 0.7985245901639344, 0.8052459016393442, 0.8148087431693989, 0.8150273224043716, 0.8049726775956284, 0.8216939890710382, 0.8183060109289617, 0.7888524590163934, 0.7985245901639344, 0.8347540983606556, 0.7921857923497267, 0.8116939890710382, 0.8316393442622949, 0.8018579234972677, 0.821639344262295, 0.8052459016393442, 0.8118032786885246, 0.821639344262295, 0.8348087431693989, 0.8283060109289616, 0.8318032786885245, 0.7457377049180328, 0.8284699453551913, 0.7920218579234973, 0.5445355191256831, 0.8216939890710382, 0.8284699453551913, 0.8250819672131147, 0.8250273224043715, 0.7096174863387978, 0.8083606557377049, 0.821584699453552, 0.8151366120218579, 0.8316939890710383, 0.7919125683060109, 0.8053005464480874, 0.8316393442622951, 0.8055191256830602, 0.788743169398907, 0.8118032786885246, 0.844808743169399, 0.8184153005464481]}, {\"categories\": [\"0\", \"1\", \"2\", \"3\", \"4\", \"5\", \"6\", \"7\", \"8\", \"9\", \"10\", \"11\", \"12\", \"13\", \"14\", \"15\", \"16\", \"17\", \"18\", \"19\", \"20\", \"21\", \"22\", \"23\", \"24\", \"25\", \"26\", \"27\", \"28\", \"29\", \"30\", \"31\", \"32\", \"33\", \"34\", \"35\", \"36\", \"37\", \"38\", \"39\", \"40\", \"49\", \"50\"], \"mode\": \"lines\", \"name\": \"precision_score_micro_max\", \"stepped\": true, \"type\": \"scatter\", \"data\": [0.7918579234972677, 0.7985245901639344, 0.8052459016393442, 0.8148087431693989, 0.8150273224043716, 0.8150273224043716, 0.8216939890710382, 0.8216939890710382, 0.8216939890710382, 0.8216939890710382, 0.8347540983606556, 0.8347540983606556, 0.8347540983606556, 0.8347540983606556, 0.8347540983606556, 0.8347540983606556, 0.8347540983606556, 0.8347540983606556, 0.8347540983606556, 0.8348087431693989, 0.8348087431693989, 0.8348087431693989, 0.8348087431693989, 0.8348087431693989, 0.8348087431693989, 0.8348087431693989, 0.8348087431693989, 0.8348087431693989, 0.8348087431693989, 0.8348087431693989, 0.8348087431693989, 0.8348087431693989, 0.8348087431693989, 0.8348087431693989, 0.8348087431693989, 0.8348087431693989, 0.8348087431693989, 0.8348087431693989, 0.8348087431693989, 0.8348087431693989, 0.8348087431693989, 0.844808743169399, 0.844808743169399]}], \"matthews_correlation\": [{\"categories\": [\"0\", \"1\", \"2\", \"3\", \"4\", \"5\", \"6\", \"7\", \"8\", \"9\", \"10\", \"11\", \"12\", \"13\", \"14\", \"15\", \"16\", \"17\", \"18\", \"19\", \"20\", \"21\", \"22\", \"23\", \"24\", \"25\", \"26\", \"27\", \"28\", \"29\", \"30\", \"31\", \"32\", \"33\", \"34\", \"35\", \"36\", \"37\", \"38\", \"39\", \"40\", \"49\", \"50\"], \"mode\": \"markers\", \"name\": \"matthews_correlation\", \"stepped\": false, \"type\": \"scatter\", \"data\": [0.5770457387679374, 0.5935147132973844, 0.6051615353847383, 0.6325189392136884, 0.6252831290597912, 0.6083642271480343, 0.6378629762600312, 0.633111111346128, 0.5677696591331706, 0.5925318703435343, 0.6661563349827005, 0.5849974772673471, 0.622394257246173, 0.6633653034878836, 0.59995509013413, 0.6402642394210041, 0.6031400999117464, 0.6186321739789605, 0.6354480380752369, 0.666320528456031, 0.651084402044359, 0.658616937345482, 0.484272666605101, 0.6527865744847021, 0.5759847909011905, 0.0, 0.6388341582157222, 0.6516212020703029, 0.6450307924513792, 0.6439241355190372, 0.4745048716806422, 0.6133835746900009, 0.6394622905755751, 0.6261277556596087, 0.6630679274060591, 0.5958464467866695, 0.6065745268297686, 0.6574774622771242, 0.6047639361985825, 0.5674563140071741, 0.6232454963819503, 0.6862382316648621, 0.6324507725507537]}, {\"categories\": [\"0\", \"1\", \"2\", \"3\", \"4\", \"5\", \"6\", \"7\", \"8\", \"9\", \"10\", \"11\", \"12\", \"13\", \"14\", \"15\", \"16\", \"17\", \"18\", \"19\", \"20\", \"21\", \"22\", \"23\", \"24\", \"25\", \"26\", \"27\", \"28\", \"29\", \"30\", \"31\", \"32\", \"33\", \"34\", \"35\", \"36\", \"37\", \"38\", \"39\", \"40\", \"49\", \"50\"], \"mode\": \"lines\", \"name\": \"matthews_correlation_max\", \"stepped\": true, \"type\": \"scatter\", \"data\": [0.5770457387679374, 0.5935147132973844, 0.6051615353847383, 0.6325189392136884, 0.6325189392136884, 0.6325189392136884, 0.6378629762600312, 0.6378629762600312, 0.6378629762600312, 0.6378629762600312, 0.6661563349827005, 0.6661563349827005, 0.6661563349827005, 0.6661563349827005, 0.6661563349827005, 0.6661563349827005, 0.6661563349827005, 0.6661563349827005, 0.6661563349827005, 0.666320528456031, 0.666320528456031, 0.666320528456031, 0.666320528456031, 0.666320528456031, 0.666320528456031, 0.666320528456031, 0.666320528456031, 0.666320528456031, 0.666320528456031, 0.666320528456031, 0.666320528456031, 0.666320528456031, 0.666320528456031, 0.666320528456031, 0.666320528456031, 0.666320528456031, 0.666320528456031, 0.666320528456031, 0.666320528456031, 0.666320528456031, 0.666320528456031, 0.6862382316648621, 0.6862382316648621]}], \"precision_score_macro\": [{\"categories\": [\"0\", \"1\", \"2\", \"3\", \"4\", \"5\", \"6\", \"7\", \"8\", \"9\", \"10\", \"11\", \"12\", \"13\", \"14\", \"15\", \"16\", \"17\", \"18\", \"19\", \"20\", \"21\", \"22\", \"23\", \"24\", \"25\", \"26\", \"27\", \"28\", \"29\", \"30\", \"31\", \"32\", \"33\", \"34\", \"35\", \"36\", \"37\", \"38\", \"39\", \"40\", \"49\", \"50\"], \"mode\": \"markers\", \"name\": \"precision_score_macro\", \"stepped\": false, \"type\": \"scatter\", \"data\": [0.7907492017786135, 0.799537360968776, 0.8042886519691889, 0.8195058359922867, 0.8161728506683819, 0.8078619842034478, 0.8234507852835377, 0.8182406931400313, 0.7860535220448044, 0.7974080556540233, 0.8367898165565091, 0.7945331275362746, 0.8152063227217126, 0.8381284296559439, 0.8010568009494922, 0.8236678722638336, 0.8024445006904685, 0.8111782925570523, 0.8202063768136817, 0.8363133806998941, 0.8290625680362522, 0.837488319987064, 0.7428874901652243, 0.8317595646156016, 0.7881115756395389, 0.27226775956284155, 0.821607741705462, 0.8286509836984222, 0.8261302672215984, 0.8248957957404477, 0.802015904234034, 0.8111793458076312, 0.8222028632799006, 0.816849118335743, 0.8398553364265267, 0.8181323223475288, 0.8046473916349658, 0.831306042647506, 0.8082073246171918, 0.7900846429556108, 0.8200694133348032, 0.8479556753550561, 0.8185583126862055]}, {\"categories\": [\"0\", \"1\", \"2\", \"3\", \"4\", \"5\", \"6\", \"7\", \"8\", \"9\", \"10\", \"11\", \"12\", \"13\", \"14\", \"15\", \"16\", \"17\", \"18\", \"19\", \"20\", \"21\", \"22\", \"23\", \"24\", \"25\", \"26\", \"27\", \"28\", \"29\", \"30\", \"31\", \"32\", \"33\", \"34\", \"35\", \"36\", \"37\", \"38\", \"39\", \"40\", \"49\", \"50\"], \"mode\": \"lines\", \"name\": \"precision_score_macro_max\", \"stepped\": true, \"type\": \"scatter\", \"data\": [0.7907492017786135, 0.799537360968776, 0.8042886519691889, 0.8195058359922867, 0.8195058359922867, 0.8195058359922867, 0.8234507852835377, 0.8234507852835377, 0.8234507852835377, 0.8234507852835377, 0.8367898165565091, 0.8367898165565091, 0.8367898165565091, 0.8381284296559439, 0.8381284296559439, 0.8381284296559439, 0.8381284296559439, 0.8381284296559439, 0.8381284296559439, 0.8381284296559439, 0.8381284296559439, 0.8381284296559439, 0.8381284296559439, 0.8381284296559439, 0.8381284296559439, 0.8381284296559439, 0.8381284296559439, 0.8381284296559439, 0.8381284296559439, 0.8381284296559439, 0.8381284296559439, 0.8381284296559439, 0.8381284296559439, 0.8381284296559439, 0.8398553364265267, 0.8398553364265267, 0.8398553364265267, 0.8398553364265267, 0.8398553364265267, 0.8398553364265267, 0.8398553364265267, 0.8479556753550561, 0.8479556753550561]}], \"f1_score_weighted\": [{\"categories\": [\"0\", \"1\", \"2\", \"3\", \"4\", \"5\", \"6\", \"7\", \"8\", \"9\", \"10\", \"11\", \"12\", \"13\", \"14\", \"15\", \"16\", \"17\", \"18\", \"19\", \"20\", \"21\", \"22\", \"23\", \"24\", \"25\", \"26\", \"27\", \"28\", \"29\", \"30\", \"31\", \"32\", \"33\", \"34\", \"35\", \"36\", \"37\", \"38\", \"39\", \"40\", \"49\", \"50\"], \"mode\": \"markers\", \"name\": \"f1_score_weighted\", \"stepped\": false, \"type\": \"scatter\", \"data\": [0.7911533076732317, 0.7976303566304396, 0.8044151361077209, 0.814436637035391, 0.8140596956349724, 0.8041779552560172, 0.8204261380046752, 0.8177347591357822, 0.787800988158899, 0.7982317735255684, 0.8339949526517856, 0.7914580108068702, 0.8106182998742467, 0.8301554202488752, 0.8015410424626344, 0.8206579221286745, 0.8049466123910534, 0.8111724628825762, 0.8208346298119527, 0.8340777873771497, 0.8272486193422957, 0.8291560327101865, 0.7453355568228253, 0.8268725629532587, 0.7919699483943909, 0.3853313898597653, 0.8211060951325992, 0.8276136053912346, 0.8239883268281607, 0.8241181988493553, 0.6769822591716476, 0.8074536946924178, 0.8210626905641789, 0.8140934025827591, 0.829543180507905, 0.7853015082244377, 0.8047529399151461, 0.8309064002089895, 0.8030507460028489, 0.7857238400616317, 0.8095212197180958, 0.8437039997457629, 0.8177902879913163]}, {\"categories\": [\"0\", \"1\", \"2\", \"3\", \"4\", \"5\", \"6\", \"7\", \"8\", \"9\", \"10\", \"11\", \"12\", \"13\", \"14\", \"15\", \"16\", \"17\", \"18\", \"19\", \"20\", \"21\", \"22\", \"23\", \"24\", \"25\", \"26\", \"27\", \"28\", \"29\", \"30\", \"31\", \"32\", \"33\", \"34\", \"35\", \"36\", \"37\", \"38\", \"39\", \"40\", \"49\", \"50\"], \"mode\": \"lines\", \"name\": \"f1_score_weighted_max\", \"stepped\": true, \"type\": \"scatter\", \"data\": [0.7911533076732317, 0.7976303566304396, 0.8044151361077209, 0.814436637035391, 0.814436637035391, 0.814436637035391, 0.8204261380046752, 0.8204261380046752, 0.8204261380046752, 0.8204261380046752, 0.8339949526517856, 0.8339949526517856, 0.8339949526517856, 0.8339949526517856, 0.8339949526517856, 0.8339949526517856, 0.8339949526517856, 0.8339949526517856, 0.8339949526517856, 0.8340777873771497, 0.8340777873771497, 0.8340777873771497, 0.8340777873771497, 0.8340777873771497, 0.8340777873771497, 0.8340777873771497, 0.8340777873771497, 0.8340777873771497, 0.8340777873771497, 0.8340777873771497, 0.8340777873771497, 0.8340777873771497, 0.8340777873771497, 0.8340777873771497, 0.8340777873771497, 0.8340777873771497, 0.8340777873771497, 0.8340777873771497, 0.8340777873771497, 0.8340777873771497, 0.8340777873771497, 0.8437039997457629, 0.8437039997457629]}], \"average_precision_score_macro\": [{\"categories\": [\"0\", \"1\", \"2\", \"3\", \"4\", \"5\", \"6\", \"7\", \"8\", \"9\", \"10\", \"11\", \"12\", \"13\", \"14\", \"15\", \"16\", \"17\", \"18\", \"19\", \"20\", \"21\", \"22\", \"23\", \"24\", \"25\", \"26\", \"27\", \"28\", \"29\", \"30\", \"31\", \"32\", \"33\", \"34\", \"35\", \"36\", \"37\", \"38\", \"39\", \"40\", \"49\", \"50\"], \"mode\": \"markers\", \"name\": \"average_precision_score_macro\", \"stepped\": false, \"type\": \"scatter\", \"data\": [0.8672109846270759, 0.891671378439208, 0.8932589643473872, 0.9005157794785908, 0.9129779419394923, 0.8824960130518233, 0.8819811600703208, 0.8986926982858371, 0.8675454484282522, 0.8916331836364811, 0.9054134860000934, 0.8748764327540295, 0.8971662120403696, 0.9009180831522278, 0.8845714813332746, 0.9144571605064474, 0.9073177431551411, 0.9014312318358122, 0.895660020490703, 0.9016774394067284, 0.9181573779528218, 0.9102355036554683, 0.8281252264755065, 0.9144760797406215, 0.8667484266946879, 0.5, 0.9096601509043506, 0.8963550524836339, 0.9054153842490166, 0.9098135967719093, 0.8629325109217371, 0.9001316337170054, 0.9027179255051987, 0.8996766347748995, 0.9162239252735572, 0.8899858118164138, 0.8895179171285423, 0.9041460022290444, 0.8558025269889553, 0.880347905142116, 0.889384269914056, 0.9097282295743764, 0.9051776215105072]}, {\"categories\": [\"0\", \"1\", \"2\", \"3\", \"4\", \"5\", \"6\", \"7\", \"8\", \"9\", \"10\", \"11\", \"12\", \"13\", \"14\", \"15\", \"16\", \"17\", \"18\", \"19\", \"20\", \"21\", \"22\", \"23\", \"24\", \"25\", \"26\", \"27\", \"28\", \"29\", \"30\", \"31\", \"32\", \"33\", \"34\", \"35\", \"36\", \"37\", \"38\", \"39\", \"40\", \"49\", \"50\"], \"mode\": \"lines\", \"name\": \"average_precision_score_macro_max\", \"stepped\": true, \"type\": \"scatter\", \"data\": [0.8672109846270759, 0.891671378439208, 0.8932589643473872, 0.9005157794785908, 0.9129779419394923, 0.9129779419394923, 0.9129779419394923, 0.9129779419394923, 0.9129779419394923, 0.9129779419394923, 0.9129779419394923, 0.9129779419394923, 0.9129779419394923, 0.9129779419394923, 0.9129779419394923, 0.9144571605064474, 0.9144571605064474, 0.9144571605064474, 0.9144571605064474, 0.9144571605064474, 0.9181573779528218, 0.9181573779528218, 0.9181573779528218, 0.9181573779528218, 0.9181573779528218, 0.9181573779528218, 0.9181573779528218, 0.9181573779528218, 0.9181573779528218, 0.9181573779528218, 0.9181573779528218, 0.9181573779528218, 0.9181573779528218, 0.9181573779528218, 0.9181573779528218, 0.9181573779528218, 0.9181573779528218, 0.9181573779528218, 0.9181573779528218, 0.9181573779528218, 0.9181573779528218, 0.9181573779528218, 0.9181573779528218]}], \"AUC_macro\": [{\"categories\": [\"0\", \"1\", \"2\", \"3\", \"4\", \"5\", \"6\", \"7\", \"8\", \"9\", \"10\", \"11\", \"12\", \"13\", \"14\", \"15\", \"16\", \"17\", \"18\", \"19\", \"20\", \"21\", \"22\", \"23\", \"24\", \"25\", \"26\", \"27\", \"28\", \"29\", \"30\", \"31\", \"32\", \"33\", \"34\", \"35\", \"36\", \"37\", \"38\", \"39\", \"40\", \"49\", \"50\"], \"mode\": \"markers\", \"name\": \"AUC_macro\", \"stepped\": false, \"type\": \"scatter\", \"data\": [0.8656393683100241, 0.8862001396201405, 0.8894134557104987, 0.896651704299843, 0.9078965726248365, 0.8808247052942928, 0.8804716245442645, 0.8987226680499187, 0.8645956551314449, 0.8841225587101349, 0.9058835090216231, 0.8675602192274384, 0.8938348827243747, 0.901595154278306, 0.8809984677783996, 0.9124967978255192, 0.9022066328081817, 0.8977145623788477, 0.8916388884343502, 0.8976567936926516, 0.9155978771730636, 0.9083415491138739, 0.8321844186838184, 0.9114849958479407, 0.8682250073867586, 0.5, 0.9045631218346684, 0.8956006104131216, 0.9042091876751414, 0.905474114185934, 0.865217505627896, 0.8944147441559356, 0.8970530776712863, 0.8990181244126096, 0.9138711113115121, 0.8879931002806464, 0.8832589953487158, 0.9011549309719383, 0.8639489788465375, 0.8773410788703797, 0.8892095670755454, 0.9074540984136437, 0.9027210021373822]}, {\"categories\": [\"0\", \"1\", \"2\", \"3\", \"4\", \"5\", \"6\", \"7\", \"8\", \"9\", \"10\", \"11\", \"12\", \"13\", \"14\", \"15\", \"16\", \"17\", \"18\", \"19\", \"20\", \"21\", \"22\", \"23\", \"24\", \"25\", \"26\", \"27\", \"28\", \"29\", \"30\", \"31\", \"32\", \"33\", \"34\", \"35\", \"36\", \"37\", \"38\", \"39\", \"40\", \"49\", \"50\"], \"mode\": \"lines\", \"name\": \"AUC_macro_max\", \"stepped\": true, \"type\": \"scatter\", \"data\": [0.8656393683100241, 0.8862001396201405, 0.8894134557104987, 0.896651704299843, 0.9078965726248365, 0.9078965726248365, 0.9078965726248365, 0.9078965726248365, 0.9078965726248365, 0.9078965726248365, 0.9078965726248365, 0.9078965726248365, 0.9078965726248365, 0.9078965726248365, 0.9078965726248365, 0.9124967978255192, 0.9124967978255192, 0.9124967978255192, 0.9124967978255192, 0.9124967978255192, 0.9155978771730636, 0.9155978771730636, 0.9155978771730636, 0.9155978771730636, 0.9155978771730636, 0.9155978771730636, 0.9155978771730636, 0.9155978771730636, 0.9155978771730636, 0.9155978771730636, 0.9155978771730636, 0.9155978771730636, 0.9155978771730636, 0.9155978771730636, 0.9155978771730636, 0.9155978771730636, 0.9155978771730636, 0.9155978771730636, 0.9155978771730636, 0.9155978771730636, 0.9155978771730636, 0.9155978771730636, 0.9155978771730636]}], \"weighted_accuracy\": [{\"categories\": [\"0\", \"1\", \"2\", \"3\", \"4\", \"5\", \"6\", \"7\", \"8\", \"9\", \"10\", \"11\", \"12\", \"13\", \"14\", \"15\", \"16\", \"17\", \"18\", \"19\", \"20\", \"21\", \"22\", \"23\", \"24\", \"25\", \"26\", \"27\", \"28\", \"29\", \"30\", \"31\", \"32\", \"33\", \"34\", \"35\", \"36\", \"37\", \"38\", \"39\", \"40\", \"49\", \"50\"], \"mode\": \"markers\", \"name\": \"weighted_accuracy\", \"stepped\": false, \"type\": \"scatter\", \"data\": [0.7968507434885812, 0.802366673881982, 0.8088986896191139, 0.8162248712939896, 0.820013458514526, 0.8088435569057287, 0.8279754529773351, 0.8212005273547625, 0.7951380925609297, 0.8014767773965457, 0.8394048083141218, 0.7934145066821578, 0.8153561559594114, 0.8368684428659495, 0.8044005871613414, 0.8258114996634625, 0.8092823398512129, 0.8155348031420033, 0.8272315793693007, 0.8390002931280298, 0.8337968935327812, 0.8408788114262287, 0.749455595652009, 0.835032259602024, 0.7957711276003111, 0.5853430342818451, 0.8255814070899372, 0.8334042633833241, 0.8304745183983847, 0.8302437287405813, 0.73050174085024, 0.8135907030317376, 0.825218649261485, 0.820321119625467, 0.8386424675561253, 0.8035563454719424, 0.8081220361110815, 0.8364805168391276, 0.8130062939529603, 0.7985445724654807, 0.8192397287361531, 0.8505291229773103, 0.8223573340109475]}, {\"categories\": [\"0\", \"1\", \"2\", \"3\", \"4\", \"5\", \"6\", \"7\", \"8\", \"9\", \"10\", \"11\", \"12\", \"13\", \"14\", \"15\", \"16\", \"17\", \"18\", \"19\", \"20\", \"21\", \"22\", \"23\", \"24\", \"25\", \"26\", \"27\", \"28\", \"29\", \"30\", \"31\", \"32\", \"33\", \"34\", \"35\", \"36\", \"37\", \"38\", \"39\", \"40\", \"49\", \"50\"], \"mode\": \"lines\", \"name\": \"weighted_accuracy_max\", \"stepped\": true, \"type\": \"scatter\", \"data\": [0.7968507434885812, 0.802366673881982, 0.8088986896191139, 0.8162248712939896, 0.820013458514526, 0.820013458514526, 0.8279754529773351, 0.8279754529773351, 0.8279754529773351, 0.8279754529773351, 0.8394048083141218, 0.8394048083141218, 0.8394048083141218, 0.8394048083141218, 0.8394048083141218, 0.8394048083141218, 0.8394048083141218, 0.8394048083141218, 0.8394048083141218, 0.8394048083141218, 0.8394048083141218, 0.8408788114262287, 0.8408788114262287, 0.8408788114262287, 0.8408788114262287, 0.8408788114262287, 0.8408788114262287, 0.8408788114262287, 0.8408788114262287, 0.8408788114262287, 0.8408788114262287, 0.8408788114262287, 0.8408788114262287, 0.8408788114262287, 0.8408788114262287, 0.8408788114262287, 0.8408788114262287, 0.8408788114262287, 0.8408788114262287, 0.8408788114262287, 0.8408788114262287, 0.8505291229773103, 0.8505291229773103]}], \"AUC_micro\": [{\"categories\": [\"0\", \"1\", \"2\", \"3\", \"4\", \"5\", \"6\", \"7\", \"8\", \"9\", \"10\", \"11\", \"12\", \"13\", \"14\", \"15\", \"16\", \"17\", \"18\", \"19\", \"20\", \"21\", \"22\", \"23\", \"24\", \"25\", \"26\", \"27\", \"28\", \"29\", \"30\", \"31\", \"32\", \"33\", \"34\", \"35\", \"36\", \"37\", \"38\", \"39\", \"40\", \"49\", \"50\"], \"mode\": \"markers\", \"name\": \"AUC_micro\", \"stepped\": false, \"type\": \"scatter\", \"data\": [0.8718657021708619, 0.8879208247484248, 0.8888472035593777, 0.894649840246051, 0.906620487324196, 0.8764745737406313, 0.8793029203619097, 0.8968657320314133, 0.8654081340141537, 0.8844583146704886, 0.9077117262384663, 0.8640851772223715, 0.8908575950312043, 0.9021882259846518, 0.8787654304398458, 0.911692764788438, 0.8998892173549523, 0.8977772104273045, 0.8904145092418407, 0.9008408880527934, 0.9138797515602137, 0.9084050285168264, 0.8300697990384902, 0.9122338529069246, 0.8679849353519067, 0.544535519125683, 0.9050333094448924, 0.8965626474364718, 0.9061060198871271, 0.9049922063961299, 0.7728745558243004, 0.8950847890352055, 0.8984795455224104, 0.9008309444892353, 0.9123680014333064, 0.8667717459464301, 0.8794849353519065, 0.9031710561676969, 0.8687297172205799, 0.8752175341156798, 0.8888684344112991, 0.9085296963181941, 0.9009560601988712]}, {\"categories\": [\"0\", \"1\", \"2\", \"3\", \"4\", \"5\", \"6\", \"7\", \"8\", \"9\", \"10\", \"11\", \"12\", \"13\", \"14\", \"15\", \"16\", \"17\", \"18\", \"19\", \"20\", \"21\", \"22\", \"23\", \"24\", \"25\", \"26\", \"27\", \"28\", \"29\", \"30\", \"31\", \"32\", \"33\", \"34\", \"35\", \"36\", \"37\", \"38\", \"39\", \"40\", \"49\", \"50\"], \"mode\": \"lines\", \"name\": \"AUC_micro_max\", \"stepped\": true, \"type\": \"scatter\", \"data\": [0.8718657021708619, 0.8879208247484248, 0.8888472035593777, 0.894649840246051, 0.906620487324196, 0.906620487324196, 0.906620487324196, 0.906620487324196, 0.906620487324196, 0.906620487324196, 0.9077117262384663, 0.9077117262384663, 0.9077117262384663, 0.9077117262384663, 0.9077117262384663, 0.911692764788438, 0.911692764788438, 0.911692764788438, 0.911692764788438, 0.911692764788438, 0.9138797515602137, 0.9138797515602137, 0.9138797515602137, 0.9138797515602137, 0.9138797515602137, 0.9138797515602137, 0.9138797515602137, 0.9138797515602137, 0.9138797515602137, 0.9138797515602137, 0.9138797515602137, 0.9138797515602137, 0.9138797515602137, 0.9138797515602137, 0.9138797515602137, 0.9138797515602137, 0.9138797515602137, 0.9138797515602137, 0.9138797515602137, 0.9138797515602137, 0.9138797515602137, 0.9138797515602137, 0.9138797515602137]}], \"balanced_accuracy\": [{\"categories\": [\"0\", \"1\", \"2\", \"3\", \"4\", \"5\", \"6\", \"7\", \"8\", \"9\", \"10\", \"11\", \"12\", \"13\", \"14\", \"15\", \"16\", \"17\", \"18\", \"19\", \"20\", \"21\", \"22\", \"23\", \"24\", \"25\", \"26\", \"27\", \"28\", \"29\", \"30\", \"31\", \"32\", \"33\", \"34\", \"35\", \"36\", \"37\", \"38\", \"39\", \"40\", \"49\", \"50\"], \"mode\": \"markers\", \"name\": \"balanced_accuracy\", \"stepped\": false, \"type\": \"scatter\", \"data\": [0.7863316036015464, 0.7941127411221627, 0.8009878371207314, 0.8131149153170203, 0.8093484370778473, 0.8006178716214292, 0.8146564976213082, 0.8149497416886996, 0.781821580963096, 0.795162321595084, 0.8295295964981371, 0.7905369649185836, 0.8074258180302282, 0.8256775966703769, 0.7989393456770281, 0.8168346850253021, 0.8007236926952483, 0.8075256328905642, 0.8153656676542882, 0.8301164083553664, 0.8221673917922192, 0.8217093821813325, 0.7414426173555231, 0.821207595192823, 0.7878734804014437, 0.5, 0.81730726857042, 0.8230313692141318, 0.8190423917922193, 0.8191640547510625, 0.6868483992299267, 0.8024733410792784, 0.8174049805227147, 0.8093895226622682, 0.8238636375784942, 0.7792115629821519, 0.8019949142273394, 0.8262473607363188, 0.7970870240055815, 0.7778311676231979, 0.8035731642879748, 0.8384622730170204, 0.8139739352370867]}, {\"categories\": [\"0\", \"1\", \"2\", \"3\", \"4\", \"5\", \"6\", \"7\", \"8\", \"9\", \"10\", \"11\", \"12\", \"13\", \"14\", \"15\", \"16\", \"17\", \"18\", \"19\", \"20\", \"21\", \"22\", \"23\", \"24\", \"25\", \"26\", \"27\", \"28\", \"29\", \"30\", \"31\", \"32\", \"33\", \"34\", \"35\", \"36\", \"37\", \"38\", \"39\", \"40\", \"49\", \"50\"], \"mode\": \"lines\", \"name\": \"balanced_accuracy_max\", \"stepped\": true, \"type\": \"scatter\", \"data\": [0.7863316036015464, 0.7941127411221627, 0.8009878371207314, 0.8131149153170203, 0.8131149153170203, 0.8131149153170203, 0.8146564976213082, 0.8149497416886996, 0.8149497416886996, 0.8149497416886996, 0.8295295964981371, 0.8295295964981371, 0.8295295964981371, 0.8295295964981371, 0.8295295964981371, 0.8295295964981371, 0.8295295964981371, 0.8295295964981371, 0.8295295964981371, 0.8301164083553664, 0.8301164083553664, 0.8301164083553664, 0.8301164083553664, 0.8301164083553664, 0.8301164083553664, 0.8301164083553664, 0.8301164083553664, 0.8301164083553664, 0.8301164083553664, 0.8301164083553664, 0.8301164083553664, 0.8301164083553664, 0.8301164083553664, 0.8301164083553664, 0.8301164083553664, 0.8301164083553664, 0.8301164083553664, 0.8301164083553664, 0.8301164083553664, 0.8301164083553664, 0.8301164083553664, 0.8384622730170204, 0.8384622730170204]}], \"recall_score_micro\": [{\"categories\": [\"0\", \"1\", \"2\", \"3\", \"4\", \"5\", \"6\", \"7\", \"8\", \"9\", \"10\", \"11\", \"12\", \"13\", \"14\", \"15\", \"16\", \"17\", \"18\", \"19\", \"20\", \"21\", \"22\", \"23\", \"24\", \"25\", \"26\", \"27\", \"28\", \"29\", \"30\", \"31\", \"32\", \"33\", \"34\", \"35\", \"36\", \"37\", \"38\", \"39\", \"40\", \"49\", \"50\"], \"mode\": \"markers\", \"name\": \"recall_score_micro\", \"stepped\": false, \"type\": \"scatter\", \"data\": [0.7918579234972677, 0.7985245901639344, 0.8052459016393442, 0.8148087431693989, 0.8150273224043716, 0.8049726775956284, 0.8216939890710382, 0.8183060109289617, 0.7888524590163934, 0.7985245901639344, 0.8347540983606556, 0.7921857923497267, 0.8116939890710382, 0.8316393442622949, 0.8018579234972677, 0.821639344262295, 0.8052459016393442, 0.8118032786885246, 0.821639344262295, 0.8348087431693989, 0.8283060109289616, 0.8318032786885245, 0.7457377049180328, 0.8284699453551913, 0.7920218579234973, 0.5445355191256831, 0.8216939890710382, 0.8284699453551913, 0.8250819672131147, 0.8250273224043715, 0.7096174863387978, 0.8083606557377049, 0.821584699453552, 0.8151366120218579, 0.8316939890710383, 0.7919125683060109, 0.8053005464480874, 0.8316393442622951, 0.8055191256830602, 0.788743169398907, 0.8118032786885246, 0.844808743169399, 0.8184153005464481]}, {\"categories\": [\"0\", \"1\", \"2\", \"3\", \"4\", \"5\", \"6\", \"7\", \"8\", \"9\", \"10\", \"11\", \"12\", \"13\", \"14\", \"15\", \"16\", \"17\", \"18\", \"19\", \"20\", \"21\", \"22\", \"23\", \"24\", \"25\", \"26\", \"27\", \"28\", \"29\", \"30\", \"31\", \"32\", \"33\", \"34\", \"35\", \"36\", \"37\", \"38\", \"39\", \"40\", \"49\", \"50\"], \"mode\": \"lines\", \"name\": \"recall_score_micro_max\", \"stepped\": true, \"type\": \"scatter\", \"data\": [0.7918579234972677, 0.7985245901639344, 0.8052459016393442, 0.8148087431693989, 0.8150273224043716, 0.8150273224043716, 0.8216939890710382, 0.8216939890710382, 0.8216939890710382, 0.8216939890710382, 0.8347540983606556, 0.8347540983606556, 0.8347540983606556, 0.8347540983606556, 0.8347540983606556, 0.8347540983606556, 0.8347540983606556, 0.8347540983606556, 0.8347540983606556, 0.8348087431693989, 0.8348087431693989, 0.8348087431693989, 0.8348087431693989, 0.8348087431693989, 0.8348087431693989, 0.8348087431693989, 0.8348087431693989, 0.8348087431693989, 0.8348087431693989, 0.8348087431693989, 0.8348087431693989, 0.8348087431693989, 0.8348087431693989, 0.8348087431693989, 0.8348087431693989, 0.8348087431693989, 0.8348087431693989, 0.8348087431693989, 0.8348087431693989, 0.8348087431693989, 0.8348087431693989, 0.844808743169399, 0.844808743169399]}], \"f1_score_micro\": [{\"categories\": [\"0\", \"1\", \"2\", \"3\", \"4\", \"5\", \"6\", \"7\", \"8\", \"9\", \"10\", \"11\", \"12\", \"13\", \"14\", \"15\", \"16\", \"17\", \"18\", \"19\", \"20\", \"21\", \"22\", \"23\", \"24\", \"25\", \"26\", \"27\", \"28\", \"29\", \"30\", \"31\", \"32\", \"33\", \"34\", \"35\", \"36\", \"37\", \"38\", \"39\", \"40\", \"49\", \"50\"], \"mode\": \"markers\", \"name\": \"f1_score_micro\", \"stepped\": false, \"type\": \"scatter\", \"data\": [0.7918579234972677, 0.7985245901639344, 0.8052459016393444, 0.8148087431693989, 0.8150273224043717, 0.8049726775956284, 0.8216939890710384, 0.8183060109289617, 0.7888524590163934, 0.7985245901639344, 0.8347540983606558, 0.7921857923497269, 0.8116939890710382, 0.8316393442622949, 0.8018579234972678, 0.8216393442622951, 0.8052459016393444, 0.8118032786885246, 0.8216393442622951, 0.834808743169399, 0.8283060109289616, 0.8318032786885245, 0.7457377049180328, 0.8284699453551913, 0.7920218579234973, 0.5445355191256831, 0.8216939890710384, 0.8284699453551913, 0.8250819672131147, 0.8250273224043715, 0.7096174863387978, 0.8083606557377049, 0.821584699453552, 0.8151366120218579, 0.8316939890710383, 0.7919125683060109, 0.8053005464480874, 0.8316393442622951, 0.8055191256830602, 0.7887431693989071, 0.8118032786885246, 0.844808743169399, 0.8184153005464483]}, {\"categories\": [\"0\", \"1\", \"2\", \"3\", \"4\", \"5\", \"6\", \"7\", \"8\", \"9\", \"10\", \"11\", \"12\", \"13\", \"14\", \"15\", \"16\", \"17\", \"18\", \"19\", \"20\", \"21\", \"22\", \"23\", \"24\", \"25\", \"26\", \"27\", \"28\", \"29\", \"30\", \"31\", \"32\", \"33\", \"34\", \"35\", \"36\", \"37\", \"38\", \"39\", \"40\", \"49\", \"50\"], \"mode\": \"lines\", \"name\": \"f1_score_micro_max\", \"stepped\": true, \"type\": \"scatter\", \"data\": [0.7918579234972677, 0.7985245901639344, 0.8052459016393444, 0.8148087431693989, 0.8150273224043717, 0.8150273224043717, 0.8216939890710384, 0.8216939890710384, 0.8216939890710384, 0.8216939890710384, 0.8347540983606558, 0.8347540983606558, 0.8347540983606558, 0.8347540983606558, 0.8347540983606558, 0.8347540983606558, 0.8347540983606558, 0.8347540983606558, 0.8347540983606558, 0.834808743169399, 0.834808743169399, 0.834808743169399, 0.834808743169399, 0.834808743169399, 0.834808743169399, 0.834808743169399, 0.834808743169399, 0.834808743169399, 0.834808743169399, 0.834808743169399, 0.834808743169399, 0.834808743169399, 0.834808743169399, 0.834808743169399, 0.834808743169399, 0.834808743169399, 0.834808743169399, 0.834808743169399, 0.834808743169399, 0.834808743169399, 0.834808743169399, 0.844808743169399, 0.844808743169399]}], \"log_loss\": [{\"categories\": [\"0\", \"1\", \"2\", \"3\", \"4\", \"5\", \"6\", \"7\", \"8\", \"9\", \"10\", \"11\", \"12\", \"13\", \"14\", \"15\", \"16\", \"17\", \"18\", \"19\", \"20\", \"21\", \"22\", \"23\", \"24\", \"25\", \"26\", \"27\", \"28\", \"29\", \"30\", \"31\", \"32\", \"33\", \"34\", \"35\", \"36\", \"37\", \"38\", \"39\", \"40\", \"49\", \"50\"], \"mode\": \"markers\", \"name\": \"log_loss\", \"stepped\": false, \"type\": \"scatter\", \"data\": [0.5547666100444208, 0.4604225104481777, 0.425651743032899, 0.42848932526313704, 0.40151968644975955, 0.4756564718249863, 0.5035305728562607, 0.500321853509764, 0.5213676207276052, 0.47463021162479874, 0.4059298905218075, 0.45910580024792597, 0.44001435954746243, 0.4016143950479889, 0.47928402699255435, 0.37596003912912834, 0.4093804704667493, 0.49081586409893135, 0.4197499578744039, 0.40100522538467215, 0.3773830633729359, 0.4430379885472412, 0.5335639458985699, 0.4345752355300161, 0.49145912752318155, 0.6923366629943393, 0.4069715817906013, 0.45161379166262633, 0.4023741784025566, 0.4146728493866216, 0.6450094490578365, 0.4242585527773626, 0.40904023457755656, 0.4581009732844962, 0.45955729337435314, 0.5882779415158197, 0.4493328939264515, 0.3978120839053255, 0.5354791436462756, 0.5048027566867365, 0.5050261270984325, 0.43764663411590365, 0.4206136833384598]}, {\"categories\": [\"0\", \"1\", \"2\", \"3\", \"4\", \"5\", \"6\", \"7\", \"8\", \"9\", \"10\", \"11\", \"12\", \"13\", \"14\", \"15\", \"16\", \"17\", \"18\", \"19\", \"20\", \"21\", \"22\", \"23\", \"24\", \"25\", \"26\", \"27\", \"28\", \"29\", \"30\", \"31\", \"32\", \"33\", \"34\", \"35\", \"36\", \"37\", \"38\", \"39\", \"40\", \"49\", \"50\"], \"mode\": \"lines\", \"name\": \"log_loss_min\", \"stepped\": true, \"type\": \"scatter\", \"data\": [0.5547666100444208, 0.4604225104481777, 0.425651743032899, 0.425651743032899, 0.40151968644975955, 0.40151968644975955, 0.40151968644975955, 0.40151968644975955, 0.40151968644975955, 0.40151968644975955, 0.40151968644975955, 0.40151968644975955, 0.40151968644975955, 0.40151968644975955, 0.40151968644975955, 0.37596003912912834, 0.37596003912912834, 0.37596003912912834, 0.37596003912912834, 0.37596003912912834, 0.37596003912912834, 0.37596003912912834, 0.37596003912912834, 0.37596003912912834, 0.37596003912912834, 0.37596003912912834, 0.37596003912912834, 0.37596003912912834, 0.37596003912912834, 0.37596003912912834, 0.37596003912912834, 0.37596003912912834, 0.37596003912912834, 0.37596003912912834, 0.37596003912912834, 0.37596003912912834, 0.37596003912912834, 0.37596003912912834, 0.37596003912912834, 0.37596003912912834, 0.37596003912912834, 0.37596003912912834, 0.37596003912912834]}]}, \"metricName\": null, \"primaryMetricName\": \"accuracy\", \"showLegend\": false}, \"run_metrics\": [{\"name\": \"experiment_status\", \"run_id\": \"AutoML_eaf562aa-79f3-44b6-9592-aa6dec49470e\", \"categories\": [0, 1, 2, 3, 4, 5, 6, 7, 8, 9, 10, 11, 12, 13], \"series\": [{\"data\": [\"DatasetEvaluation\", \"FeaturesGeneration\", \"DatasetFeaturization\", \"DatasetFeaturizationCompleted\", \"DatasetCrossValidationSplit\", \"ModelSelection\", \"BestRunExplainModel\", \"ModelExplanationDataSetSetup\", \"PickSurrogateModel\", \"EngineeredFeatureExplanations\", \"EngineeredFeatureExplanations\", \"RawFeaturesExplanations\", \"RawFeaturesExplanations\", \"BestRunExplainModel\"]}]}, {\"name\": \"experiment_status_description\", \"run_id\": \"AutoML_eaf562aa-79f3-44b6-9592-aa6dec49470e\", \"categories\": [0, 1, 2, 3, 4, 5, 6, 7, 8, 9, 10, 11, 12, 13], \"series\": [{\"data\": [\"Gathering dataset statistics.\", \"Generating features for the dataset.\", \"Beginning to fit featurizers and featurize the dataset.\", \"Completed fit featurizers and featurizing the dataset.\", \"Generating individually featurized CV splits.\", \"Beginning model selection.\", \"Best run model explanations started\", \"Model explanations data setup completed\", \"Choosing LightGBM as the surrogate model for explanations\", \"Computation of engineered features started\", \"Computation of engineered features completed\", \"Computation of raw features started\", \"Computation of raw features completed\", \"Best run model explanations completed\"]}]}, {\"name\": \"recall_score_weighted\", \"run_id\": \"AutoML_eaf562aa-79f3-44b6-9592-aa6dec49470e\", \"categories\": [0], \"series\": [{\"data\": [0.844808743169399]}]}, {\"name\": \"average_precision_score_macro\", \"run_id\": \"AutoML_eaf562aa-79f3-44b6-9592-aa6dec49470e\", \"categories\": [0], \"series\": [{\"data\": [0.9097282295743764]}]}, {\"name\": \"f1_score_macro\", \"run_id\": \"AutoML_eaf562aa-79f3-44b6-9592-aa6dec49470e\", \"categories\": [0], \"series\": [{\"data\": [0.8399539679650058]}]}, {\"name\": \"accuracy\", \"run_id\": \"AutoML_eaf562aa-79f3-44b6-9592-aa6dec49470e\", \"categories\": [0], \"series\": [{\"data\": [0.844808743169399]}]}, {\"name\": \"f1_score_micro\", \"run_id\": \"AutoML_eaf562aa-79f3-44b6-9592-aa6dec49470e\", \"categories\": [0], \"series\": [{\"data\": [0.844808743169399]}]}, {\"name\": \"norm_macro_recall\", \"run_id\": \"AutoML_eaf562aa-79f3-44b6-9592-aa6dec49470e\", \"categories\": [0], \"series\": [{\"data\": [0.676924546034041]}]}, {\"name\": \"matthews_correlation\", \"run_id\": \"AutoML_eaf562aa-79f3-44b6-9592-aa6dec49470e\", \"categories\": [0], \"series\": [{\"data\": [0.6862382316648621]}]}, {\"name\": \"average_precision_score_weighted\", \"run_id\": \"AutoML_eaf562aa-79f3-44b6-9592-aa6dec49470e\", \"categories\": [0], \"series\": [{\"data\": [0.9121978359280465]}]}, {\"name\": \"AUC_micro\", \"run_id\": \"AutoML_eaf562aa-79f3-44b6-9592-aa6dec49470e\", \"categories\": [0], \"series\": [{\"data\": [0.9085296963181941]}]}, {\"name\": \"recall_score_macro\", \"run_id\": \"AutoML_eaf562aa-79f3-44b6-9592-aa6dec49470e\", \"categories\": [0], \"series\": [{\"data\": [0.8384622730170204]}]}, {\"name\": \"balanced_accuracy\", \"run_id\": \"AutoML_eaf562aa-79f3-44b6-9592-aa6dec49470e\", \"categories\": [0], \"series\": [{\"data\": [0.8384622730170204]}]}, {\"name\": \"weighted_accuracy\", \"run_id\": \"AutoML_eaf562aa-79f3-44b6-9592-aa6dec49470e\", \"categories\": [0], \"series\": [{\"data\": [0.8505291229773103]}]}, {\"name\": \"f1_score_weighted\", \"run_id\": \"AutoML_eaf562aa-79f3-44b6-9592-aa6dec49470e\", \"categories\": [0], \"series\": [{\"data\": [0.8437039997457629]}]}, {\"name\": \"AUC_weighted\", \"run_id\": \"AutoML_eaf562aa-79f3-44b6-9592-aa6dec49470e\", \"categories\": [0], \"series\": [{\"data\": [0.9074540984136437]}]}, {\"name\": \"log_loss\", \"run_id\": \"AutoML_eaf562aa-79f3-44b6-9592-aa6dec49470e\", \"categories\": [0], \"series\": [{\"data\": [0.43764663411590365]}]}, {\"name\": \"precision_score_macro\", \"run_id\": \"AutoML_eaf562aa-79f3-44b6-9592-aa6dec49470e\", \"categories\": [0], \"series\": [{\"data\": [0.8479556753550561]}]}, {\"name\": \"average_precision_score_micro\", \"run_id\": \"AutoML_eaf562aa-79f3-44b6-9592-aa6dec49470e\", \"categories\": [0], \"series\": [{\"data\": [0.9091860276279979]}]}, {\"name\": \"AUC_macro\", \"run_id\": \"AutoML_eaf562aa-79f3-44b6-9592-aa6dec49470e\", \"categories\": [0], \"series\": [{\"data\": [0.9074540984136437]}]}, {\"name\": \"precision_score_weighted\", \"run_id\": \"AutoML_eaf562aa-79f3-44b6-9592-aa6dec49470e\", \"categories\": [0], \"series\": [{\"data\": [0.8488301298101837]}]}, {\"name\": \"precision_score_micro\", \"run_id\": \"AutoML_eaf562aa-79f3-44b6-9592-aa6dec49470e\", \"categories\": [0], \"series\": [{\"data\": [0.844808743169399]}]}, {\"name\": \"recall_score_micro\", \"run_id\": \"AutoML_eaf562aa-79f3-44b6-9592-aa6dec49470e\", \"categories\": [0], \"series\": [{\"data\": [0.844808743169399]}]}], \"run_logs\": \"\\nRun is completed.\", \"graph\": {}, \"widget_settings\": {\"childWidgetDisplay\": \"popup\", \"send_telemetry\": false, \"log_level\": \"INFO\", \"sdk_version\": \"1.26.0\"}, \"loading\": false}"
     },
     "metadata": {},
     "output_type": "display_data"
    }
   ],
   "source": [
    "from azureml.widgets import RunDetails\n",
    "#visualizing progress of runs\n",
    "RunDetails(remote_run).show()"
   ]
  },
  {
   "cell_type": "markdown",
   "metadata": {},
   "source": [
    "## Best Model\n",
    "\n"
   ]
  },
  {
   "cell_type": "code",
   "execution_count": 28,
   "metadata": {
    "gather": {
     "logged": 1598431425670
    },
    "jupyter": {
     "outputs_hidden": false,
     "source_hidden": false
    },
    "nteract": {
     "transient": {
      "deleting": false
     }
    }
   },
   "outputs": [
    {
     "name": "stdout",
     "output_type": "stream",
     "text": [
      "Best run: Run(Experiment: automl-experiment,\n",
      "Id: AutoML_eaf562aa-79f3-44b6-9592-aa6dec49470e_49,\n",
      "Type: azureml.scriptrun,\n",
      "Status: Completed)\n",
      "Best fitted model: Pipeline(memory=None,\n",
      "         steps=[('datatransformer',\n",
      "                 DataTransformer(enable_dnn=None, enable_feature_sweeping=None,\n",
      "                                 feature_sweeping_config=None,\n",
      "                                 feature_sweeping_timeout=None,\n",
      "                                 featurization_config=None, force_text_dnn=None,\n",
      "                                 is_cross_validation=None,\n",
      "                                 is_onnx_compatible=None, logger=None,\n",
      "                                 observer=None, task=None, working_dir=None)),\n",
      "                ('prefittedsoftvotingclassifier',...\n",
      "                                                                                                    min_weight_fraction_leaf=0.0,\n",
      "                                                                                                    n_estimators=25,\n",
      "                                                                                                    n_jobs=1,\n",
      "                                                                                                    oob_score=False,\n",
      "                                                                                                    random_state=None,\n",
      "                                                                                                    verbose=0,\n",
      "                                                                                                    warm_start=False))],\n",
      "                                                                     verbose=False))],\n",
      "                                               flatten_transform=None,\n",
      "                                               weights=[0.07692307692307693,\n",
      "                                                        0.15384615384615385,\n",
      "                                                        0.15384615384615385,\n",
      "                                                        0.23076923076923078,\n",
      "                                                        0.07692307692307693,\n",
      "                                                        0.07692307692307693,\n",
      "                                                        0.07692307692307693,\n",
      "                                                        0.07692307692307693,\n",
      "                                                        0.07692307692307693]))],\n",
      "         verbose=False)\n"
     ]
    },
    {
     "data": {
      "text/plain": [
       "['best_automodel_lr_automl.joblib']"
      ]
     },
     "execution_count": 28,
     "metadata": {},
     "output_type": "execute_result"
    }
   ],
   "source": [
    "# Retrieve and save your best automl model.\n",
    "import joblib\n",
    "best_run, fitted_model = remote_run.get_output()\n",
    "print('Best run:',best_run)\n",
    "print('Best fitted model:', fitted_model)\n",
    "\n",
    "#save best model\n",
    "\n",
    "joblib.dump (fitted_model, 'best_automodel_lr_automl.joblib')"
   ]
  },
  {
   "cell_type": "code",
   "execution_count": 29,
   "metadata": {
    "scrolled": true
   },
   "outputs": [
    {
     "name": "stdout",
     "output_type": "stream",
     "text": [
      "Run properties:  {'runTemplate': 'automl_child', 'pipeline_id': '__AutoML_Ensemble__', 'pipeline_spec': '{\"pipeline_id\":\"__AutoML_Ensemble__\",\"objects\":[{\"module\":\"azureml.train.automl.ensemble\",\"class_name\":\"Ensemble\",\"spec_class\":\"sklearn\",\"param_args\":[],\"param_kwargs\":{\"automl_settings\":\"{\\'task_type\\':\\'classification\\',\\'primary_metric\\':\\'accuracy\\',\\'verbosity\\':20,\\'ensemble_iterations\\':15,\\'is_timeseries\\':False,\\'name\\':\\'AutoML_Demo_Experiment_1618869290.1873217\\',\\'compute_target\\':\\'cpu-cluster\\',\\'subscription_id\\':\\'1b944a9b-fdae-4f97-aeb1-b7eea0beac53\\',\\'region\\':\\'southcentralus\\',\\'spark_service\\':None}\",\"ensemble_run_id\":\"AutoML_eaf562aa-79f3-44b6-9592-aa6dec49470e_49\",\"experiment_name\":\"automl-experiment\",\"workspace_name\":\"quick-starts-ws-143190\",\"subscription_id\":\"1b944a9b-fdae-4f97-aeb1-b7eea0beac53\",\"resource_group_name\":\"aml-quickstarts-143190\"}}]}', 'training_percent': '100', 'predicted_cost': None, 'iteration': '49', '_aml_system_scenario_identification': 'Remote.Child', '_azureml.ComputeTargetType': 'amlcompute', 'ContentSnapshotId': '83c6331e-6e99-41b8-aa90-a3ecb3b5932b', 'ProcessInfoFile': 'azureml-logs/process_info.json', 'ProcessStatusFile': 'azureml-logs/process_status.json', 'run_template': 'automl_child', 'run_preprocessor': '', 'run_algorithm': 'VotingEnsemble', 'ensembled_iterations': '[19, 10, 21, 34, 37, 24, 22, 17, 36]', 'ensembled_algorithms': \"['LightGBM', 'XGBoostClassifier', 'LightGBM', 'RandomForest', 'LightGBM', 'XGBoostClassifier', 'XGBoostClassifier', 'XGBoostClassifier', 'RandomForest']\", 'ensembled_run_ids': \"['AutoML_eaf562aa-79f3-44b6-9592-aa6dec49470e_19', 'AutoML_eaf562aa-79f3-44b6-9592-aa6dec49470e_10', 'AutoML_eaf562aa-79f3-44b6-9592-aa6dec49470e_21', 'AutoML_eaf562aa-79f3-44b6-9592-aa6dec49470e_34', 'AutoML_eaf562aa-79f3-44b6-9592-aa6dec49470e_37', 'AutoML_eaf562aa-79f3-44b6-9592-aa6dec49470e_24', 'AutoML_eaf562aa-79f3-44b6-9592-aa6dec49470e_22', 'AutoML_eaf562aa-79f3-44b6-9592-aa6dec49470e_17', 'AutoML_eaf562aa-79f3-44b6-9592-aa6dec49470e_36']\", 'ensemble_weights': '[0.07692307692307693, 0.15384615384615385, 0.15384615384615385, 0.23076923076923078, 0.07692307692307693, 0.07692307692307693, 0.07692307692307693, 0.07692307692307693, 0.07692307692307693]', 'best_individual_pipeline_score': '0.8348087431693989', 'best_individual_iteration': '19', 'model_output_path': 'outputs/model.pkl', 'conda_env_data_location': 'aml://artifact/ExperimentRun/dcid.AutoML_eaf562aa-79f3-44b6-9592-aa6dec49470e_49/outputs/conda_env_v_1_0_0.yml', 'model_data_location': 'aml://artifact/ExperimentRun/dcid.AutoML_eaf562aa-79f3-44b6-9592-aa6dec49470e_49/outputs/model.pkl', 'model_size_on_disk': '497452', 'scoring_data_location': 'aml://artifact/ExperimentRun/dcid.AutoML_eaf562aa-79f3-44b6-9592-aa6dec49470e_49/outputs/scoring_file_v_1_0_0.py', 'model_exp_support': 'True', 'pipeline_graph_version': '1.0.0', 'model_name': 'AutoMLeaf562aa749', 'staticProperties': '{}', 'score': '0.844808743169399', 'score_table': 'NaN', 'run_properties': \"classification_labels=None,\\n                              estimators=[('19',\\n                                           Pipeline(memory=None,\\n                                                    steps=[('maxabsscaler',\\n                                                            MaxAbsScaler(copy=True\", 'pipeline_script': '{\"pipeline_id\":\"__AutoML_Ensemble__\",\"objects\":[{\"module\":\"azureml.train.automl.ensemble\",\"class_name\":\"Ensemble\",\"spec_class\":\"sklearn\",\"param_args\":[],\"param_kwargs\":{\"automl_settings\":\"{\\'task_type\\':\\'classification\\',\\'primary_metric\\':\\'accuracy\\',\\'verbosity\\':20,\\'ensemble_iterations\\':15,\\'is_timeseries\\':False,\\'name\\':\\'AutoML_Demo_Experiment_1618869290.1873217\\',\\'compute_target\\':\\'cpu-cluster\\',\\'subscription_id\\':\\'1b944a9b-fdae-4f97-aeb1-b7eea0beac53\\',\\'region\\':\\'southcentralus\\',\\'spark_service\\':None}\",\"ensemble_run_id\":\"AutoML_eaf562aa-79f3-44b6-9592-aa6dec49470e_49\",\"experiment_name\":\"automl-experiment\",\"workspace_name\":\"quick-starts-ws-143190\",\"subscription_id\":\"1b944a9b-fdae-4f97-aeb1-b7eea0beac53\",\"resource_group_name\":\"aml-quickstarts-143190\"}}]}', 'training_type': 'MeanCrossValidation', 'num_classes': '', 'framework': 'sklearn', 'fit_time': '17', 'goal': 'accuracy_max', 'class_labels': '', 'primary_metric': 'accuracy', 'errors': '{}', 'onnx_model_resource': '{}', 'error_code': '', 'failure_reason': '', 'dependencies_versions': '{\"azureml-train-automl-runtime\": \"1.26.0\", \"azureml-train-automl-client\": \"1.26.0\", \"azureml-telemetry\": \"1.26.0\", \"azureml-pipeline-core\": \"1.26.0\", \"azureml-model-management-sdk\": \"1.0.1b6.post1\", \"azureml-mlflow\": \"1.26.0\", \"azureml-interpret\": \"1.26.0\", \"azureml-defaults\": \"1.26.0\", \"azureml-dataset-runtime\": \"1.26.0\", \"azureml-dataprep\": \"2.13.2\", \"azureml-dataprep-rslex\": \"1.11.2\", \"azureml-dataprep-native\": \"32.0.0\", \"azureml-core\": \"1.26.0\", \"azureml-automl-runtime\": \"1.26.0\", \"azureml-automl-core\": \"1.26.0\"}', 'num_cores': '2', 'num_logical_cores': '2', 'peak_memory_usage': '655944', 'vm_configuration': 'Intel(R) Xeon(R) CPU E5-2673 v4 @ 2.30GHz', 'core_hours': '0.005314831666666667', 'feature_skus': 'automatedml_sdk_guardrails'}\n"
     ]
    }
   ],
   "source": [
    "print('Run properties: ',best_run.properties)"
   ]
  },
  {
   "cell_type": "markdown",
   "metadata": {},
   "source": [
    "## Model Deployment\n"
   ]
  },
  {
   "cell_type": "code",
   "execution_count": 32,
   "metadata": {
    "gather": {
     "logged": 1598431435189
    },
    "jupyter": {
     "outputs_hidden": false,
     "source_hidden": false
    },
    "nteract": {
     "transient": {
      "deleting": false
     }
    },
    "scrolled": true
   },
   "outputs": [
    {
     "name": "stdout",
     "output_type": "stream",
     "text": [
      "Tips: You can try get_logs(): https://aka.ms/debugimage#dockerlog or local deployment: https://aka.ms/debugimage#debug-locally to debug if deployment takes longer than 10 minutes.\n",
      "Running\n",
      "2021-04-19 23:47:59+00:00 Creating Container Registry if not exists.\n",
      "2021-04-19 23:47:59+00:00 Registering the environment.\n",
      "2021-04-19 23:47:59+00:00 Use the existing image.\n",
      "2021-04-19 23:47:59+00:00 Generating deployment configuration.\n",
      "2021-04-19 23:48:00+00:00 Submitting deployment to compute.\n",
      "2021-04-19 23:48:04+00:00 Checking the status of deployment heart-disease-service..\n",
      "2021-04-19 23:52:00+00:00 Checking the status of inference endpoint heart-disease-service.\n",
      "Succeeded\n",
      "ACI service creation operation finished, operation \"Succeeded\"\n"
     ]
    },
    {
     "ename": "AttributeError",
     "evalue": "'AciWebservice' object has no attribute 'getlogs'",
     "output_type": "error",
     "traceback": [
      "\u001b[0;31m---------------------------------------------------------------------------\u001b[0m",
      "\u001b[0;31mAttributeError\u001b[0m                            Traceback (most recent call last)",
      "\u001b[0;32m<ipython-input-32-ba8b7f76f2c9>\u001b[0m in \u001b[0;36m<module>\u001b[0;34m\u001b[0m\n\u001b[1;32m     34\u001b[0m \u001b[0mservice\u001b[0m \u001b[0;34m=\u001b[0m \u001b[0mModel\u001b[0m\u001b[0;34m.\u001b[0m\u001b[0mdeploy\u001b[0m\u001b[0;34m(\u001b[0m\u001b[0mws\u001b[0m\u001b[0;34m,\u001b[0m \u001b[0;34m'heart-disease-service'\u001b[0m\u001b[0;34m,\u001b[0m \u001b[0;34m[\u001b[0m\u001b[0mmodel\u001b[0m\u001b[0;34m]\u001b[0m\u001b[0;34m,\u001b[0m \u001b[0minference_config\u001b[0m\u001b[0;34m,\u001b[0m \u001b[0mdeployment_config\u001b[0m\u001b[0;34m,\u001b[0m \u001b[0moverwrite\u001b[0m\u001b[0;34m=\u001b[0m\u001b[0;32mTrue\u001b[0m\u001b[0;34m)\u001b[0m\u001b[0;34m\u001b[0m\u001b[0;34m\u001b[0m\u001b[0m\n\u001b[1;32m     35\u001b[0m \u001b[0mservice\u001b[0m\u001b[0;34m.\u001b[0m\u001b[0mwait_for_deployment\u001b[0m\u001b[0;34m(\u001b[0m\u001b[0mshow_output\u001b[0m\u001b[0;34m=\u001b[0m\u001b[0;32mTrue\u001b[0m\u001b[0;34m)\u001b[0m\u001b[0;34m\u001b[0m\u001b[0;34m\u001b[0m\u001b[0m\n\u001b[0;32m---> 36\u001b[0;31m \u001b[0mprint\u001b[0m\u001b[0;34m(\u001b[0m\u001b[0mservice\u001b[0m\u001b[0;34m.\u001b[0m\u001b[0mgetlogs\u001b[0m\u001b[0;34m(\u001b[0m\u001b[0;34m)\u001b[0m\u001b[0;34m)\u001b[0m\u001b[0;34m\u001b[0m\u001b[0;34m\u001b[0m\u001b[0m\n\u001b[0m\u001b[1;32m     37\u001b[0m \u001b[0;34m\u001b[0m\u001b[0m\n\u001b[1;32m     38\u001b[0m \u001b[0;34m\u001b[0m\u001b[0m\n",
      "\u001b[0;31mAttributeError\u001b[0m: 'AciWebservice' object has no attribute 'getlogs'"
     ]
    }
   ],
   "source": [
    "from azureml.core.model import InferenceConfig\n",
    "from azureml.core.webservice import AciWebservice\n",
    "from azureml.core.model import Model\n",
    "from azureml.train.automl import constants\n",
    "from azureml.automl.core.shared import constants\n",
    "\n",
    "\n",
    "#deploying the already registed model (best), creating an inference and --> model exposed as a WS-*.\n",
    "#getting environment from best run\n",
    "env = best_run.get_environment()\n",
    "\n",
    "#registeting the model\n",
    "#model = best_run.register_model(model_name='best_automodel_lr_automl.pkl')\n",
    "model = remote_run.register_model(model_name=best_run.properties['model_name'])\n",
    "\n",
    "\n",
    "best_run.download_file('outputs/scoring_file_v_1_0_0.py', 'score.py')\n",
    "best_run.download_file(constants.CONDA_ENV_FILE_PATH, 'env.yml')\n",
    "inference_config = InferenceConfig(entry_script='score.py', environment=env)\n",
    "\n",
    "deployment_config = AciWebservice.deploy_configuration(\n",
    "                                                       cpu_cores=1,\n",
    "                                                       memory_gb=1,\n",
    "                                                       description='predicting heart diseases',\n",
    "                                                       auth_enabled=True,\n",
    "                                                       enable_app_insights= True,\n",
    "                                                       collect_model_data = True)\n",
    "\n",
    "\n",
    "\n",
    "\n",
    "#inference_config = InferenceConfig(entry_script='score.py',environment=env)\n",
    "#deployment_config = AciWebservice.deploy_configuration(cpu_cores=1, memory_gb=1)\n",
    "service = Model.deploy(ws, 'heart-disease-service', [model], inference_config, deployment_config, overwrite=True)\n",
    "service.wait_for_deployment(show_output=True)\n",
    "\n",
    "\n",
    "\n"
   ]
  },
  {
   "cell_type": "markdown",
   "metadata": {
    "collapsed": true,
    "gather": {
     "logged": 1598431657736
    },
    "jupyter": {
     "outputs_hidden": false,
     "source_hidden": false
    },
    "nteract": {
     "transient": {
      "deleting": false
     }
    }
   },
   "source": [
    "TODO: In the cell below, send a request to the web service you deployed to test it."
   ]
  },
  {
   "cell_type": "code",
   "execution_count": 50,
   "metadata": {
    "gather": {
     "logged": 1598432707604
    },
    "jupyter": {
     "outputs_hidden": false,
     "source_hidden": false
    },
    "nteract": {
     "transient": {
      "deleting": false
     }
    }
   },
   "outputs": [
    {
     "name": "stdout",
     "output_type": "stream",
     "text": [
      "Score URI: http://10ba1fe4-cb4f-479d-882f-b0f35d8ee221.southcentralus.azurecontainer.io/score\n",
      "Swagger URL: http://10ba1fe4-cb4f-479d-882f-b0f35d8ee221.southcentralus.azurecontainer.io/swagger.json\n",
      "b'\"{\\\\\"result\\\\\": [1]}\"'\n"
     ]
    }
   ],
   "source": [
    "import requests\n",
    "import json \n",
    "print('Score URI:',service.scoring_uri)\n",
    "print('Swagger URL:',service.swagger_uri)\n",
    "\n",
    "\n",
    "\n",
    "#it could have done also with and endpoint.py script as in the project 2, but for simplicity just make a qury with a payload and auth.\n",
    "#testing with dummy values\n",
    "import urllib.request\n",
    "import json\n",
    "import os\n",
    "import ssl\n",
    "\n",
    "\n",
    "\n",
    "data = {\n",
    "    \"data\":\n",
    "    [\n",
    "        {\n",
    "            'age': \"0\",\n",
    "            'sex': \"0\",\n",
    "            'cp': \"0\",\n",
    "            'trestbps': \"0\",\n",
    "            'chol': \"0\",\n",
    "            'fbs': \"0\",\n",
    "            'restecg': \"0\",\n",
    "            'thalach': \"0\",\n",
    "            'exang': \"0\",\n",
    "            'oldpeak': \"0\",\n",
    "            'slope': \"0\",\n",
    "            'ca': \"0\",\n",
    "            'thal': \"0\",\n",
    "        },\n",
    "    ],\n",
    "}\n",
    "\n",
    "body = str.encode(json.dumps(data))\n",
    "\n",
    "headers = {'Content-Type':'application/json', 'Authorization':('Bearer '+ service.get_keys()[0])}\n",
    "\n",
    "req = urllib.request.Request(service.scoring_uri, body, headers)\n",
    "\n",
    "try:\n",
    "    response = urllib.request.urlopen(req)\n",
    "\n",
    "    result = response.read()\n",
    "    print(result)\n",
    "except urllib.error.HTTPError as error:\n",
    "    print(\"The request failed with status code: \" + str(error.code))\n",
    "\n",
    "    # Print the headers - they include the requert ID and the timestamp, which are useful for debugging the failure\n",
    "    print(error.info())\n",
    "    print(json.loads(error.read().decode(\"utf8\", 'ignore')))\n",
    "\n",
    "\n",
    "#headers = {'Content-type': 'application/json'}\n",
    "#headers['Authorization'] = f'Bearer {service.get_keys()[0]}'\n",
    "# Make the request and display the response\n",
    "#response = requests.post(service.scoring_uri, data.iloc[0,0:13], headers=headers)\n",
    "#print('Prediction :', response.text)"
   ]
  },
  {
   "cell_type": "code",
   "execution_count": 51,
   "metadata": {},
   "outputs": [
    {
     "name": "stdout",
     "output_type": "stream",
     "text": [
      "2021-04-19T23:51:52,963393900+00:00 - gunicorn/run \n",
      "2021-04-19T23:51:52,964883100+00:00 - rsyslog/run \n",
      "2021-04-19T23:51:52,989448900+00:00 - nginx/run \n",
      "2021-04-19T23:51:52,994555500+00:00 - iot-server/run \n",
      "rsyslogd: /azureml-envs/azureml_1c91e9a5baadb44a18d64bdd7f599d89/lib/libuuid.so.1: no version information available (required by rsyslogd)\n",
      "/usr/sbin/nginx: /azureml-envs/azureml_1c91e9a5baadb44a18d64bdd7f599d89/lib/libcrypto.so.1.0.0: no version information available (required by /usr/sbin/nginx)\n",
      "/usr/sbin/nginx: /azureml-envs/azureml_1c91e9a5baadb44a18d64bdd7f599d89/lib/libcrypto.so.1.0.0: no version information available (required by /usr/sbin/nginx)\n",
      "/usr/sbin/nginx: /azureml-envs/azureml_1c91e9a5baadb44a18d64bdd7f599d89/lib/libssl.so.1.0.0: no version information available (required by /usr/sbin/nginx)\n",
      "/usr/sbin/nginx: /azureml-envs/azureml_1c91e9a5baadb44a18d64bdd7f599d89/lib/libssl.so.1.0.0: no version information available (required by /usr/sbin/nginx)\n",
      "/usr/sbin/nginx: /azureml-envs/azureml_1c91e9a5baadb44a18d64bdd7f599d89/lib/libssl.so.1.0.0: no version information available (required by /usr/sbin/nginx)\n",
      "EdgeHubConnectionString and IOTEDGE_IOTHUBHOSTNAME are not set. Exiting...\n",
      "2021-04-19T23:51:53,286802800+00:00 - iot-server/finish 1 0\n",
      "2021-04-19T23:51:53,292391800+00:00 - Exit code 1 is normal. Not restarting iot-server.\n",
      "Starting gunicorn 19.9.0\n",
      "Listening at: http://127.0.0.1:31311 (62)\n",
      "Using worker: sync\n",
      "worker timeout is set to 300\n",
      "Booting worker with pid: 95\n",
      "SPARK_HOME not set. Skipping PySpark Initialization.\n",
      "Generating new fontManager, this may take some time...\n",
      "Initializing logger\n",
      "2021-04-19 23:51:55,943 | root | INFO | Starting up app insights client\n",
      "2021-04-19 23:51:55,943 | root | INFO | Starting up request id generator\n",
      "2021-04-19 23:51:55,944 | root | INFO | Starting up app insight hooks\n",
      "2021-04-19 23:51:55,944 | root | INFO | Invoking user's init function\n",
      "2021-04-19 23:52:00,458 | azureml.core | WARNING | Failure while loading azureml_run_type_providers. Failed to load entrypoint automl = azureml.train.automl.run:AutoMLRun._from_run_dto with exception cannot import name 'RunType'.\n",
      "Failure while loading azureml_run_type_providers. Failed to load entrypoint automl = azureml.train.automl.run:AutoMLRun._from_run_dto with exception cannot import name 'RunType'.\n",
      "2021-04-19 23:52:01,027 | root | INFO | Users's init has completed successfully\n",
      "2021-04-19 23:52:01,034 | root | INFO | Skipping middleware: dbg_model_info as it's not enabled.\n",
      "2021-04-19 23:52:01,034 | root | INFO | Skipping middleware: dbg_resource_usage as it's not enabled.\n",
      "2021-04-19 23:52:01,036 | root | INFO | Scoring timeout is found from os.environ: 60000 ms\n",
      "2021-04-19 23:52:01,126 | root | INFO | 200\n",
      "127.0.0.1 - - [19/Apr/2021:23:52:01 +0000] \"GET /swagger.json HTTP/1.0\" 200 2763 \"-\" \"Go-http-client/1.1\"\n",
      "2021-04-19 23:52:05,522 | root | INFO | 200\n",
      "127.0.0.1 - - [19/Apr/2021:23:52:05 +0000] \"GET /swagger.json HTTP/1.0\" 200 2763 \"-\" \"Go-http-client/1.1\"\n",
      "2021-04-19 23:55:36,443 | root | INFO | 200\n",
      "127.0.0.1 - - [19/Apr/2021:23:55:36 +0000] \"GET /swagger.json HTTP/1.0\" 200 2763 \"-\" \"Go-http-client/1.1\"\n",
      "2021-04-19 23:57:48,653 | root | INFO | 200\n",
      "127.0.0.1 - - [19/Apr/2021:23:57:48 +0000] \"GET /swagger.json HTTP/1.0\" 200 2763 \"-\" \"Go-http-client/1.1\"\n",
      "2021-04-19 23:58:07,220 | root | INFO | 200\n",
      "127.0.0.1 - - [19/Apr/2021:23:58:07 +0000] \"GET /swagger.json HTTP/1.0\" 200 2763 \"-\" \"Go-http-client/1.1\"\n",
      "2021-04-19 23:58:12,958 | root | INFO | 200\n",
      "127.0.0.1 - - [19/Apr/2021:23:58:12 +0000] \"GET /swagger.json HTTP/1.0\" 200 2763 \"-\" \"Go-http-client/1.1\"\n",
      "2021-04-20 00:36:48,123 | root | INFO | 200\n",
      "127.0.0.1 - - [20/Apr/2021:00:36:48 +0000] \"GET /swagger.json HTTP/1.0\" 200 2763 \"-\" \"Go-http-client/1.1\"\n",
      "2021-04-20 00:36:59,214 | root | INFO | Validation Request Content-Type\n",
      "2021-04-20 00:36:59,222 | root | INFO | Scoring Timer is set to 60.0 seconds\n",
      "2021-04-20 00:36:59,761 | root | INFO | 200\n",
      "127.0.0.1 - - [20/Apr/2021:00:36:59 +0000] \"POST /score?verbose=true HTTP/1.0\" 200 19 \"-\" \"Go-http-client/1.1\"\n",
      "2021-04-20 00:37:30,776 | root | INFO | 200\n",
      "127.0.0.1 - - [20/Apr/2021:00:37:30 +0000] \"GET /swagger.json HTTP/1.0\" 200 2763 \"-\" \"Go-http-client/1.1\"\n",
      "2021-04-20 00:41:01,648 | root | INFO | 200\n",
      "127.0.0.1 - - [20/Apr/2021:00:41:01 +0000] \"GET /swagger.json HTTP/1.0\" 200 2763 \"-\" \"Go-http-client/1.1\"\n",
      "2021-04-20 00:41:04,338 | root | INFO | Validation Request Content-Type\n",
      "2021-04-20 00:41:04,340 | root | INFO | Scoring Timer is set to 60.0 seconds\n",
      "2021-04-20 00:41:04,532 | root | INFO | 200\n",
      "127.0.0.1 - - [20/Apr/2021:00:41:04 +0000] \"POST /score?verbose=true HTTP/1.0\" 200 19 \"-\" \"Go-http-client/1.1\"\n",
      "2021-04-20 00:42:45,789 | root | INFO | 200\n",
      "127.0.0.1 - - [20/Apr/2021:00:42:45 +0000] \"GET /swagger.json HTTP/1.0\" 200 2763 \"-\" \"Go-http-client/1.1\"\n",
      "2021-04-20 00:45:05,478 | root | INFO | Validation Request Content-Type\n",
      "2021-04-20 00:45:05,482 | root | INFO | Scoring Timer is set to 60.0 seconds\n",
      "2021-04-20 00:45:05,660 | root | INFO | 200\n",
      "127.0.0.1 - - [20/Apr/2021:00:45:05 +0000] \"POST /score HTTP/1.0\" 200 19 \"-\" \"Python-urllib/3.6\"\n",
      "\n"
     ]
    }
   ],
   "source": [
    "print(service.get_logs())"
   ]
  },
  {
   "cell_type": "code",
   "execution_count": 52,
   "metadata": {
    "jupyter": {
     "outputs_hidden": false,
     "source_hidden": false
    },
    "nteract": {
     "transient": {
      "deleting": false
     }
    }
   },
   "outputs": [],
   "source": [
    "#adding a cell for deleting the compute cluster\n",
    "#cpu_cluster.delete()\n",
    "\n",
    "#deleting service\n",
    "service.delete()"
   ]
  },
  {
   "cell_type": "code",
   "execution_count": 54,
   "metadata": {},
   "outputs": [
    {
     "data": {
      "text/plain": [
       "'Deleting'"
      ]
     },
     "execution_count": 54,
     "metadata": {},
     "output_type": "execute_result"
    }
   ],
   "source": [
    "service.state"
   ]
  },
  {
   "cell_type": "code",
   "execution_count": null,
   "metadata": {},
   "outputs": [],
   "source": []
  }
 ],
 "metadata": {
  "kernel_info": {
   "name": "python3"
  },
  "kernelspec": {
   "display_name": "Python 3",
   "language": "python",
   "name": "python3"
  },
  "language_info": {
   "codemirror_mode": {
    "name": "ipython",
    "version": 3
   },
   "file_extension": ".py",
   "mimetype": "text/x-python",
   "name": "python",
   "nbconvert_exporter": "python",
   "pygments_lexer": "ipython3",
   "version": "3.6.9"
  },
  "microsoft": {
   "host": {
    "AzureML": {
     "notebookHasBeenCompleted": true
    }
   }
  },
  "nteract": {
   "version": "nteract-front-end@1.0.0"
  }
 },
 "nbformat": 4,
 "nbformat_minor": 2
}
